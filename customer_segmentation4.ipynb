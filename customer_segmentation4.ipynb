{
 "cells": [
  {
   "cell_type": "markdown",
   "metadata": {},
   "source": [
    "https://chat.openai.com/share/70f87008-d452-484b-b8d2-8d4ba2b95891"
   ]
  },
  {
   "cell_type": "code",
   "execution_count": 23,
   "metadata": {},
   "outputs": [],
   "source": [
    "import pandas as pd\n",
    "from sklearn.preprocessing import StandardScaler\n",
    "from sklearn.cluster import KMeans \n",
    "import matplotlib.pyplot as plt\n",
    "import seaborn as sns"
   ]
  },
  {
   "cell_type": "code",
   "execution_count": 18,
   "metadata": {},
   "outputs": [],
   "source": [
    "df = pd.read_excel(\"data/Telco_customer_churn_adapted_v2.xlsx\")\n",
    "columns = [\"Tenure Months\", \"Monthly Purchase (Thou. IDR)\", \"CLTV (Predicted Thou. IDR)\"]\n",
    "X = df.copy()[columns]\n",
    "\n",
    "churners = X.loc[df[df[\"Churn Label\"] == \"Yes\"].index]\n",
    "non_churners = X.loc[df[df[\"Churn Label\"] == \"No\"].index]"
   ]
  },
  {
   "cell_type": "markdown",
   "metadata": {},
   "source": [
    "### Churners Segmentation"
   ]
  },
  {
   "cell_type": "code",
   "execution_count": 41,
   "metadata": {},
   "outputs": [
    {
     "data": {
      "text/html": [
       "<style>#sk-container-id-4 {color: black;background-color: white;}#sk-container-id-4 pre{padding: 0;}#sk-container-id-4 div.sk-toggleable {background-color: white;}#sk-container-id-4 label.sk-toggleable__label {cursor: pointer;display: block;width: 100%;margin-bottom: 0;padding: 0.3em;box-sizing: border-box;text-align: center;}#sk-container-id-4 label.sk-toggleable__label-arrow:before {content: \"▸\";float: left;margin-right: 0.25em;color: #696969;}#sk-container-id-4 label.sk-toggleable__label-arrow:hover:before {color: black;}#sk-container-id-4 div.sk-estimator:hover label.sk-toggleable__label-arrow:before {color: black;}#sk-container-id-4 div.sk-toggleable__content {max-height: 0;max-width: 0;overflow: hidden;text-align: left;background-color: #f0f8ff;}#sk-container-id-4 div.sk-toggleable__content pre {margin: 0.2em;color: black;border-radius: 0.25em;background-color: #f0f8ff;}#sk-container-id-4 input.sk-toggleable__control:checked~div.sk-toggleable__content {max-height: 200px;max-width: 100%;overflow: auto;}#sk-container-id-4 input.sk-toggleable__control:checked~label.sk-toggleable__label-arrow:before {content: \"▾\";}#sk-container-id-4 div.sk-estimator input.sk-toggleable__control:checked~label.sk-toggleable__label {background-color: #d4ebff;}#sk-container-id-4 div.sk-label input.sk-toggleable__control:checked~label.sk-toggleable__label {background-color: #d4ebff;}#sk-container-id-4 input.sk-hidden--visually {border: 0;clip: rect(1px 1px 1px 1px);clip: rect(1px, 1px, 1px, 1px);height: 1px;margin: -1px;overflow: hidden;padding: 0;position: absolute;width: 1px;}#sk-container-id-4 div.sk-estimator {font-family: monospace;background-color: #f0f8ff;border: 1px dotted black;border-radius: 0.25em;box-sizing: border-box;margin-bottom: 0.5em;}#sk-container-id-4 div.sk-estimator:hover {background-color: #d4ebff;}#sk-container-id-4 div.sk-parallel-item::after {content: \"\";width: 100%;border-bottom: 1px solid gray;flex-grow: 1;}#sk-container-id-4 div.sk-label:hover label.sk-toggleable__label {background-color: #d4ebff;}#sk-container-id-4 div.sk-serial::before {content: \"\";position: absolute;border-left: 1px solid gray;box-sizing: border-box;top: 0;bottom: 0;left: 50%;z-index: 0;}#sk-container-id-4 div.sk-serial {display: flex;flex-direction: column;align-items: center;background-color: white;padding-right: 0.2em;padding-left: 0.2em;position: relative;}#sk-container-id-4 div.sk-item {position: relative;z-index: 1;}#sk-container-id-4 div.sk-parallel {display: flex;align-items: stretch;justify-content: center;background-color: white;position: relative;}#sk-container-id-4 div.sk-item::before, #sk-container-id-4 div.sk-parallel-item::before {content: \"\";position: absolute;border-left: 1px solid gray;box-sizing: border-box;top: 0;bottom: 0;left: 50%;z-index: -1;}#sk-container-id-4 div.sk-parallel-item {display: flex;flex-direction: column;z-index: 1;position: relative;background-color: white;}#sk-container-id-4 div.sk-parallel-item:first-child::after {align-self: flex-end;width: 50%;}#sk-container-id-4 div.sk-parallel-item:last-child::after {align-self: flex-start;width: 50%;}#sk-container-id-4 div.sk-parallel-item:only-child::after {width: 0;}#sk-container-id-4 div.sk-dashed-wrapped {border: 1px dashed gray;margin: 0 0.4em 0.5em 0.4em;box-sizing: border-box;padding-bottom: 0.4em;background-color: white;}#sk-container-id-4 div.sk-label label {font-family: monospace;font-weight: bold;display: inline-block;line-height: 1.2em;}#sk-container-id-4 div.sk-label-container {text-align: center;}#sk-container-id-4 div.sk-container {/* jupyter's `normalize.less` sets `[hidden] { display: none; }` but bootstrap.min.css set `[hidden] { display: none !important; }` so we also need the `!important` here to be able to override the default hidden behavior on the sphinx rendered scikit-learn.org. See: https://github.com/scikit-learn/scikit-learn/issues/21755 */display: inline-block !important;position: relative;}#sk-container-id-4 div.sk-text-repr-fallback {display: none;}</style><div id=\"sk-container-id-4\" class=\"sk-top-container\"><div class=\"sk-text-repr-fallback\"><pre>KMeans(n_clusters=3, n_init=&#x27;auto&#x27;, random_state=0)</pre><b>In a Jupyter environment, please rerun this cell to show the HTML representation or trust the notebook. <br />On GitHub, the HTML representation is unable to render, please try loading this page with nbviewer.org.</b></div><div class=\"sk-container\" hidden><div class=\"sk-item\"><div class=\"sk-estimator sk-toggleable\"><input class=\"sk-toggleable__control sk-hidden--visually\" id=\"sk-estimator-id-4\" type=\"checkbox\" checked><label for=\"sk-estimator-id-4\" class=\"sk-toggleable__label sk-toggleable__label-arrow\">KMeans</label><div class=\"sk-toggleable__content\"><pre>KMeans(n_clusters=3, n_init=&#x27;auto&#x27;, random_state=0)</pre></div></div></div></div></div>"
      ],
      "text/plain": [
       "KMeans(n_clusters=3, n_init='auto', random_state=0)"
      ]
     },
     "execution_count": 41,
     "metadata": {},
     "output_type": "execute_result"
    }
   ],
   "source": [
    "scaler = StandardScaler()\n",
    "churners_scaled = scaler.fit_transform(churners)\n",
    "\n",
    "k=3\n",
    "kmeans = KMeans(n_clusters=k, random_state=0, n_init=\"auto\")\n",
    "kmeans.fit(churners_scaled)"
   ]
  },
  {
   "cell_type": "code",
   "execution_count": 42,
   "metadata": {},
   "outputs": [],
   "source": [
    "churners[\"Cluster\"] = kmeans.labels_"
   ]
  },
  {
   "cell_type": "code",
   "execution_count": 48,
   "metadata": {},
   "outputs": [
    {
     "data": {
      "image/png": "[encoded data removed]",
      "text/plain": [
       "<Figure size 1152x360 with 3 Axes>"
      ]
     },
     "metadata": {
      "needs_background": "light"
     },
     "output_type": "display_data"
    }
   ],
   "source": [
    "plt.figure(figsize=(16, 5))\n",
    "\n",
    "for i in range(3):\n",
    "    plt.subplot(1, 3, i+1)\n",
    "    sns.boxplot(data=churners, x='Cluster', y=churners.columns[i])\n",
    "\n",
    "plt.tight_layout()\n",
    "plt.show()"
   ]
  },
  {
   "cell_type": "markdown",
   "metadata": {},
   "source": [
    "1. Segment Name: \"The Swift Attrition\"\n",
    "\n",
    "Characteristics:\n",
    "- Customers in this cluster have relatively short monthly tenures, with an average of around 12 months.\n",
    "- Despite their short tenures, they have relatively high monthly expenditures.\n",
    "- However, their CLTV is much lower compared to customers in other clusters.\n",
    "\n",
    "Marketing Strategy:\n",
    "- Focus on customer retention by highlighting the long-term benefits of telco services.\n",
    "- Customer Education: Provide tutorial content to educate customers on maximizing their service usage and the benefits they may have missed.\n",
    "- Loyalty Discounts: Offer incentives for them to extend their subscriptions, such as loyalty discounts.\n",
    "- Community Programs: Engage short-tenure customers to share their experiences with telco services and encourage them to become part of a larger community.\n",
    "\n",
    "2. Segment Name: \"The Moderate Churners\"\n",
    "\n",
    "Characteristics:\n",
    "- Customers in this cluster have moderate monthly tenures (average of around 6 months).\n",
    "- Their monthly expenditures are relatively high.\n",
    "- Despite having a potentially high CLTV, they still tend to churn for various reasons.\n",
    "\n",
    "Marketing Strategy:\n",
    "- Focus on customer retention by offering exclusive benefits and a premium experience.\n",
    "- Loyalty Enhancement: Provide exclusive benefits and premium telco package offers to enhance their overall experience.\n",
    "- Loyalty Programs: Offer loyalty programs, VIP access, and early access to new telco features to keep them loyal.\n",
    "- Customer Community: Organize engagement activities to seek feedback on service improvements and show appreciation for their loyalty.\n",
    "\n",
    "3. Segment Name: \"The High-Value Churners\"\n",
    "\n",
    "Characteristics:\n",
    "- Customers in this cluster have long monthly tenures (average of around 47 months).\n",
    "- They have high monthly expenditures and a potentially high CLTV.\n",
    "- However, they still tend to churn for various reasons.\n",
    "\n",
    "Marketing Strategy:\n",
    "- Focus on customer retention by emphasizing cost-effective telco service packages and the exploration of new subscription deals.\n",
    "- Promotional Marketing: Offer telco packages with promotional discounts to encourage sign-ups within a specific time frame.\n",
    "- Competitive Pricing Emphasis: Highlight competitive pricing between different telco subscriptions and the current one.\n",
    "- Freebie Marketing: Offer them free trials of new telco service packages to encourage them to explore with confidence and include free gifts when they sign up for a subscription plan."
   ]
  },
  {
   "cell_type": "code",
   "execution_count": null,
   "metadata": {},
   "outputs": [],
   "source": [
    "for i in range(k):\n",
    "    print(\"Cluster\", i)\n",
    "    print(churners[churners[\"Cluster\"] == i][columns].describe())\n",
    "    print()"
   ]
  },
  {
   "cell_type": "markdown",
   "metadata": {},
   "source": [
    "### Non Churners Segmentation"
   ]
  },
  {
   "cell_type": "code",
   "execution_count": 47,
   "metadata": {},
   "outputs": [
    {
     "name": "stdout",
     "output_type": "stream",
     "text": [
      "Cluster 0\n",
      "       Tenure Months  Monthly Purchase (Thou. IDR)  CLTV (Predicted Thou. IDR)\n",
      "count     1895.00000                   1895.000000                 1895.000000\n",
      "mean        57.57942                    115.742121                 6723.176728\n",
      "std         14.62693                     21.904661                  936.718651\n",
      "min          2.00000                     54.730000                 4018.300000\n",
      "25%         51.00000                    100.717500                 5961.800000\n",
      "50%         62.00000                    117.455000                 6715.800000\n",
      "75%         70.00000                    134.875000                 7473.700000\n",
      "max         72.00000                    154.375000                 8450.000000\n",
      "\n",
      "Cluster 1\n",
      "       Tenure Months  Monthly Purchase (Thou. IDR)  CLTV (Predicted Thou. IDR)\n",
      "count    1568.000000                   1568.000000                 1568.000000\n",
      "mean       33.678571                     43.044343                 6653.360204\n",
      "std        23.881648                     22.958096                  853.832759\n",
      "min         0.000000                     23.725000                 4409.600000\n",
      "25%        11.000000                     26.000000                 5952.050000\n",
      "50%        31.000000                     31.785000                 6730.750000\n",
      "75%        55.000000                     59.036250                 7312.825000\n",
      "max        72.000000                    117.520000                 8448.700000\n",
      "\n",
      "Cluster 2\n",
      "       Tenure Months  Monthly Purchase (Thou. IDR)  CLTV (Predicted Thou. IDR)\n",
      "count    1711.000000                   1711.000000                 1711.000000\n",
      "mean       18.974868                     73.206677                 4111.014845\n",
      "std        13.995653                     34.846347                  932.197284\n",
      "min         0.000000                     24.310000                 2603.900000\n",
      "25%         6.000000                     32.955000                 3350.100000\n",
      "50%        17.000000                     74.945000                 4053.400000\n",
      "75%        30.000000                    102.570000                 4768.400000\n",
      "max        48.000000                    146.835000                 6641.700000\n",
      "\n"
     ]
    }
   ],
   "source": [
    "scaler = StandardScaler()\n",
    "non_churners_scaled = scaler.fit_transform(non_churners)\n",
    "\n",
    "k=3\n",
    "kmeans = KMeans(n_clusters=k, random_state=0, n_init=\"auto\")\n",
    "kmeans.fit(non_churners_scaled)\n",
    "\n",
    "non_churners[\"Cluster\"] = kmeans.labels_\n",
    "\n",
    "for i in range(k):\n",
    "    print(\"Cluster\", i)\n",
    "    print(non_churners[non_churners[\"Cluster\"] == i][columns].describe())\n",
    "    print()"
   ]
  },
  {
   "cell_type": "code",
   "execution_count": 46,
   "metadata": {},
   "outputs": [
    {
     "data": {
      "image/png": "[encoded data removed]",
      "text/plain": [
       "<Figure size 1152x360 with 3 Axes>"
      ]
     },
     "metadata": {
      "needs_background": "light"
     },
     "output_type": "display_data"
    }
   ],
   "source": [
    "plt.figure(figsize=(16, 5))\n",
    "\n",
    "for i in range(3):\n",
    "    plt.subplot(1, 3, i+1)\n",
    "    sns.boxplot(data=churners, x='Cluster', y=churners.columns[i])\n",
    "\n",
    "plt.tight_layout()\n",
    "plt.show()"
   ]
  },
  {
   "cell_type": "markdown",
   "metadata": {},
   "source": [
    "1. Segment Name: \"The Loyal Premium Customers\"\n",
    "\n",
    "Characteristics:\n",
    "- Customers in this cluster have a long average tenure of around 57.58 months.\n",
    "- They have a relatively high average monthly purchase amount, approximately 115.74 Thousand IDR.\n",
    "- The predicted CLTV for this group is quite high.\n",
    "\n",
    "Marketing Strategy:\n",
    "- Focus on maintaining and enhancing the premium experience for these loyal customers.\n",
    "- Premium Enhancements: Offer premium features, exclusive content, and top-tier services to maintain their loyalty.\n",
    "- Loyalty Rewards: Implement a loyalty program with rewards and special privileges for long-standing customers.\n",
    "- Personalized Engagement: Engage with personalized content and offers to strengthen their loyalty.\n",
    "\n",
    "2. Segment Name: \"The Moderate Loyalty Segment\"\n",
    "\n",
    "Characteristics:\n",
    "- Customers in this cluster have an average tenure of about 33.68 months.\n",
    "- Their monthly purchase amounts are moderate, averaging around 43.04 Thousand IDR.\n",
    "- The predicted CLTV for this group is relatively high.\n",
    "\n",
    "Marketing Strategy:\n",
    "- Enhance customer loyalty by offering tailored packages and promotions.\n",
    "- Tailored Offers: Provide personalized package deals and promotions based on their preferences and history.\n",
    "- Customer Feedback: Actively seek their feedback to improve the services and offerings.\n",
    "- Loyalty Programs: Encourage participation in loyalty programs and reward them for their continued patronage.\n",
    "\n",
    "3. Segment Name: \"The Value-Seeking Customers\"\n",
    "\n",
    "Characteristics:\n",
    "- Customers in this cluster have an average tenure of about 19 months.\n",
    "- They have relatively lower monthly purchase amounts, averaging around 73.21 Thousand IDR.\n",
    "- The predicted CLTV for this group is lower compared to the other segments.\n",
    "\n",
    "Marketing Strategy:\n",
    "- Focus on offering cost-effective and value-driven services.\n",
    "- Value Packages: Promote affordable service packages and demonstrate their cost-effectiveness.\n",
    "- Education on Savings: Educate customers about how they can get more value for their spending.\n",
    "- Cost Savings: Emphasize the potential savings they can achieve by subscribing to specific packages."
   ]
  },
  {
   "cell_type": "code",
   "execution_count": 68,
   "metadata": {},
   "outputs": [
    {
     "data": {
      "text/html": [
       "<div>\n",
       "<style scoped>\n",
       "    .dataframe tbody tr th:only-of-type {\n",
       "        vertical-align: middle;\n",
       "    }\n",
       "\n",
       "    .dataframe tbody tr th {\n",
       "        vertical-align: top;\n",
       "    }\n",
       "\n",
       "    .dataframe thead th {\n",
       "        text-align: right;\n",
       "    }\n",
       "</style>\n",
       "<table border=\"1\" class=\"dataframe\">\n",
       "  <thead>\n",
       "    <tr style=\"text-align: right;\">\n",
       "      <th></th>\n",
       "      <th>Model</th>\n",
       "      <th>Churn Label</th>\n",
       "      <th>Segment</th>\n",
       "      <th>Characteristics</th>\n",
       "      <th>Marketing</th>\n",
       "    </tr>\n",
       "  </thead>\n",
       "  <tbody>\n",
       "    <tr>\n",
       "      <th>0</th>\n",
       "      <td>Value</td>\n",
       "      <td>Yes</td>\n",
       "      <td>The Swift Attrition</td>\n",
       "      <td>- Customers in this cluster have relatively sh...</td>\n",
       "      <td>- Focus on customer retention by highlighting ...</td>\n",
       "    </tr>\n",
       "    <tr>\n",
       "      <th>1</th>\n",
       "      <td>Value</td>\n",
       "      <td>Yes</td>\n",
       "      <td>The Moderate Churners</td>\n",
       "      <td>- Customers in this cluster have moderate mont...</td>\n",
       "      <td>- Focus on customer retention by offering excl...</td>\n",
       "    </tr>\n",
       "    <tr>\n",
       "      <th>2</th>\n",
       "      <td>Value</td>\n",
       "      <td>Yes</td>\n",
       "      <td>The High-Value Churners</td>\n",
       "      <td>- Customers in this cluster have long monthly ...</td>\n",
       "      <td>- Focus on customer retention by emphasizing c...</td>\n",
       "    </tr>\n",
       "    <tr>\n",
       "      <th>3</th>\n",
       "      <td>Value</td>\n",
       "      <td>No</td>\n",
       "      <td>The Loyal Premium Customers</td>\n",
       "      <td>- Customers in this cluster have a long averag...</td>\n",
       "      <td>- Focus on maintaining and enhancing the premi...</td>\n",
       "    </tr>\n",
       "    <tr>\n",
       "      <th>4</th>\n",
       "      <td>Value</td>\n",
       "      <td>No</td>\n",
       "      <td>The Moderate Loyalty Segment</td>\n",
       "      <td>- Customers in this cluster have an average te...</td>\n",
       "      <td>- Enhance customer loyalty by offering tailore...</td>\n",
       "    </tr>\n",
       "  </tbody>\n",
       "</table>\n",
       "</div>"
      ],
      "text/plain": [
       "   Model Churn Label                       Segment  \\\n",
       "0  Value         Yes           The Swift Attrition   \n",
       "1  Value         Yes         The Moderate Churners   \n",
       "2  Value         Yes       The High-Value Churners   \n",
       "3  Value          No   The Loyal Premium Customers   \n",
       "4  Value          No  The Moderate Loyalty Segment   \n",
       "\n",
       "                                     Characteristics  \\\n",
       "0  - Customers in this cluster have relatively sh...   \n",
       "1  - Customers in this cluster have moderate mont...   \n",
       "2  - Customers in this cluster have long monthly ...   \n",
       "3  - Customers in this cluster have a long averag...   \n",
       "4  - Customers in this cluster have an average te...   \n",
       "\n",
       "                                           Marketing  \n",
       "0  - Focus on customer retention by highlighting ...  \n",
       "1  - Focus on customer retention by offering excl...  \n",
       "2  - Focus on customer retention by emphasizing c...  \n",
       "3  - Focus on maintaining and enhancing the premi...  \n",
       "4  - Enhance customer loyalty by offering tailore...  "
      ]
     },
     "execution_count": 68,
     "metadata": {},
     "output_type": "execute_result"
    }
   ],
   "source": [
    "segment_df = pd.read_excel(\"data/segmentation.xlsx\")\n",
    "segment_df.head()"
   ]
  },
  {
   "cell_type": "code",
   "execution_count": 67,
   "metadata": {},
   "outputs": [
    {
     "data": {
      "text/html": [
       "<div>\n",
       "<style scoped>\n",
       "    .dataframe tbody tr th:only-of-type {\n",
       "        vertical-align: middle;\n",
       "    }\n",
       "\n",
       "    .dataframe tbody tr th {\n",
       "        vertical-align: top;\n",
       "    }\n",
       "\n",
       "    .dataframe thead th {\n",
       "        text-align: right;\n",
       "    }\n",
       "</style>\n",
       "<table border=\"1\" class=\"dataframe\">\n",
       "  <thead>\n",
       "    <tr style=\"text-align: right;\">\n",
       "      <th></th>\n",
       "      <th>Model</th>\n",
       "      <th>Churn Label</th>\n",
       "      <th>Segment</th>\n",
       "      <th>Characteristics</th>\n",
       "      <th>Markteting</th>\n",
       "    </tr>\n",
       "  </thead>\n",
       "  <tbody>\n",
       "    <tr>\n",
       "      <th>3</th>\n",
       "      <td>Value</td>\n",
       "      <td>No</td>\n",
       "      <td>The Loyal Premium Customers</td>\n",
       "      <td>- Customers in this cluster have a long averag...</td>\n",
       "      <td>- Focus on maintaining and enhancing the premi...</td>\n",
       "    </tr>\n",
       "    <tr>\n",
       "      <th>4</th>\n",
       "      <td>Value</td>\n",
       "      <td>No</td>\n",
       "      <td>The Moderate Loyalty Segment</td>\n",
       "      <td>- Customers in this cluster have an average te...</td>\n",
       "      <td>- Enhance customer loyalty by offering tailore...</td>\n",
       "    </tr>\n",
       "    <tr>\n",
       "      <th>5</th>\n",
       "      <td>Value</td>\n",
       "      <td>No</td>\n",
       "      <td>The Value-Seeking Customers</td>\n",
       "      <td>- Customers in this cluster have an average te...</td>\n",
       "      <td>- Focus on offering cost-effective and value-d...</td>\n",
       "    </tr>\n",
       "  </tbody>\n",
       "</table>\n",
       "</div>"
      ],
      "text/plain": [
       "   Model Churn Label                       Segment  \\\n",
       "3  Value          No   The Loyal Premium Customers   \n",
       "4  Value          No  The Moderate Loyalty Segment   \n",
       "5  Value          No   The Value-Seeking Customers   \n",
       "\n",
       "                                     Characteristics  \\\n",
       "3  - Customers in this cluster have a long averag...   \n",
       "4  - Customers in this cluster have an average te...   \n",
       "5  - Customers in this cluster have an average te...   \n",
       "\n",
       "                                          Markteting  \n",
       "3  - Focus on maintaining and enhancing the premi...  \n",
       "4  - Enhance customer loyalty by offering tailore...  \n",
       "5  - Focus on offering cost-effective and value-d...  "
      ]
     },
     "execution_count": 67,
     "metadata": {},
     "output_type": "execute_result"
    }
   ],
   "source": [
    "filter = \"Yes\"\n",
    "model = \"Value-based Segmentation\"\n",
    "\n",
    "model = \"Value\" if \"Value\" in model else \"Needs\"\n",
    "\n",
    "if filter == \"Show All\":\n",
    "    temp = segment_df[segment_df[\"Model\"] == model]\n",
    "elif filter == \"Churners\":\n",
    "    temp = segment_df[(segment_df[\"Model\"] == model) & (segment_df[\"Churn Label\"] == \"Yes\")]\n",
    "else:\n",
    "    temp = segment_df[(segment_df[\"Model\"] == model) & (segment_df[\"Churn Label\"] == \"No\")]\n",
    "\n",
    "temp"
   ]
  }
 ],
 "metadata": {
  "kernelspec": {
   "display_name": "Python 3",
   "language": "python",
   "name": "python3"
  },
  "language_info": {
   "codemirror_mode": {
    "name": "ipython",
    "version": 3
   },
   "file_extension": ".py",
   "mimetype": "text/x-python",
   "name": "python",
   "nbconvert_exporter": "python",
   "pygments_lexer": "ipython3",
   "version": "3.10.7"
  }
 },
 "nbformat": 4,
 "nbformat_minor": 2
}
