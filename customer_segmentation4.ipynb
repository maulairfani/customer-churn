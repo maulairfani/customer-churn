{
 "cells": [
  {
   "cell_type": "markdown",
   "metadata": {},
   "source": [
    "https://chat.openai.com/share/70f87008-d452-484b-b8d2-8d4ba2b95891"
   ]
  },
  {
   "cell_type": "code",
   "execution_count": 2,
   "metadata": {},
   "outputs": [],
   "source": [
    "import pandas as pd\n",
    "from sklearn.preprocessing import StandardScaler\n",
    "from sklearn.cluster import KMeans \n",
    "import matplotlib.pyplot as plt\n",
    "import seaborn as sns"
   ]
  },
  {
   "cell_type": "code",
   "execution_count": 112,
   "metadata": {},
   "outputs": [],
   "source": [
    "df = pd.read_excel(\"data/Telco_customer_churn_adapted_v2.xlsx\")\n",
    "columns = [\"Tenure Months\", \"Monthly Purchase (Thou. IDR)\", \"CLTV (Predicted Thou. IDR)\"]\n",
    "X = df.copy()[columns]\n",
    "\n",
    "churners = X.loc[df[df[\"Churn Label\"] == \"Yes\"].index]\n",
    "non_churners = X.loc[df[df[\"Churn Label\"] == \"No\"].index]"
   ]
  },
  {
   "cell_type": "markdown",
   "metadata": {},
   "source": [
    "### Churners Segmentation"
   ]
  },
  {
   "cell_type": "code",
   "execution_count": 113,
   "metadata": {},
   "outputs": [
    {
     "data": {
      "text/html": [
       "<style>#sk-container-id-8 {color: black;background-color: white;}#sk-container-id-8 pre{padding: 0;}#sk-container-id-8 div.sk-toggleable {background-color: white;}#sk-container-id-8 label.sk-toggleable__label {cursor: pointer;display: block;width: 100%;margin-bottom: 0;padding: 0.3em;box-sizing: border-box;text-align: center;}#sk-container-id-8 label.sk-toggleable__label-arrow:before {content: \"▸\";float: left;margin-right: 0.25em;color: #696969;}#sk-container-id-8 label.sk-toggleable__label-arrow:hover:before {color: black;}#sk-container-id-8 div.sk-estimator:hover label.sk-toggleable__label-arrow:before {color: black;}#sk-container-id-8 div.sk-toggleable__content {max-height: 0;max-width: 0;overflow: hidden;text-align: left;background-color: #f0f8ff;}#sk-container-id-8 div.sk-toggleable__content pre {margin: 0.2em;color: black;border-radius: 0.25em;background-color: #f0f8ff;}#sk-container-id-8 input.sk-toggleable__control:checked~div.sk-toggleable__content {max-height: 200px;max-width: 100%;overflow: auto;}#sk-container-id-8 input.sk-toggleable__control:checked~label.sk-toggleable__label-arrow:before {content: \"▾\";}#sk-container-id-8 div.sk-estimator input.sk-toggleable__control:checked~label.sk-toggleable__label {background-color: #d4ebff;}#sk-container-id-8 div.sk-label input.sk-toggleable__control:checked~label.sk-toggleable__label {background-color: #d4ebff;}#sk-container-id-8 input.sk-hidden--visually {border: 0;clip: rect(1px 1px 1px 1px);clip: rect(1px, 1px, 1px, 1px);height: 1px;margin: -1px;overflow: hidden;padding: 0;position: absolute;width: 1px;}#sk-container-id-8 div.sk-estimator {font-family: monospace;background-color: #f0f8ff;border: 1px dotted black;border-radius: 0.25em;box-sizing: border-box;margin-bottom: 0.5em;}#sk-container-id-8 div.sk-estimator:hover {background-color: #d4ebff;}#sk-container-id-8 div.sk-parallel-item::after {content: \"\";width: 100%;border-bottom: 1px solid gray;flex-grow: 1;}#sk-container-id-8 div.sk-label:hover label.sk-toggleable__label {background-color: #d4ebff;}#sk-container-id-8 div.sk-serial::before {content: \"\";position: absolute;border-left: 1px solid gray;box-sizing: border-box;top: 0;bottom: 0;left: 50%;z-index: 0;}#sk-container-id-8 div.sk-serial {display: flex;flex-direction: column;align-items: center;background-color: white;padding-right: 0.2em;padding-left: 0.2em;position: relative;}#sk-container-id-8 div.sk-item {position: relative;z-index: 1;}#sk-container-id-8 div.sk-parallel {display: flex;align-items: stretch;justify-content: center;background-color: white;position: relative;}#sk-container-id-8 div.sk-item::before, #sk-container-id-8 div.sk-parallel-item::before {content: \"\";position: absolute;border-left: 1px solid gray;box-sizing: border-box;top: 0;bottom: 0;left: 50%;z-index: -1;}#sk-container-id-8 div.sk-parallel-item {display: flex;flex-direction: column;z-index: 1;position: relative;background-color: white;}#sk-container-id-8 div.sk-parallel-item:first-child::after {align-self: flex-end;width: 50%;}#sk-container-id-8 div.sk-parallel-item:last-child::after {align-self: flex-start;width: 50%;}#sk-container-id-8 div.sk-parallel-item:only-child::after {width: 0;}#sk-container-id-8 div.sk-dashed-wrapped {border: 1px dashed gray;margin: 0 0.4em 0.5em 0.4em;box-sizing: border-box;padding-bottom: 0.4em;background-color: white;}#sk-container-id-8 div.sk-label label {font-family: monospace;font-weight: bold;display: inline-block;line-height: 1.2em;}#sk-container-id-8 div.sk-label-container {text-align: center;}#sk-container-id-8 div.sk-container {/* jupyter's `normalize.less` sets `[hidden] { display: none; }` but bootstrap.min.css set `[hidden] { display: none !important; }` so we also need the `!important` here to be able to override the default hidden behavior on the sphinx rendered scikit-learn.org. See: https://github.com/scikit-learn/scikit-learn/issues/21755 */display: inline-block !important;position: relative;}#sk-container-id-8 div.sk-text-repr-fallback {display: none;}</style><div id=\"sk-container-id-8\" class=\"sk-top-container\"><div class=\"sk-text-repr-fallback\"><pre>KMeans(n_clusters=3, n_init=&#x27;auto&#x27;, random_state=0)</pre><b>In a Jupyter environment, please rerun this cell to show the HTML representation or trust the notebook. <br />On GitHub, the HTML representation is unable to render, please try loading this page with nbviewer.org.</b></div><div class=\"sk-container\" hidden><div class=\"sk-item\"><div class=\"sk-estimator sk-toggleable\"><input class=\"sk-toggleable__control sk-hidden--visually\" id=\"sk-estimator-id-8\" type=\"checkbox\" checked><label for=\"sk-estimator-id-8\" class=\"sk-toggleable__label sk-toggleable__label-arrow\">KMeans</label><div class=\"sk-toggleable__content\"><pre>KMeans(n_clusters=3, n_init=&#x27;auto&#x27;, random_state=0)</pre></div></div></div></div></div>"
      ],
      "text/plain": [
       "KMeans(n_clusters=3, n_init='auto', random_state=0)"
      ]
     },
     "execution_count": 113,
     "metadata": {},
     "output_type": "execute_result"
    }
   ],
   "source": [
    "scaler = StandardScaler()\n",
    "churners_scaled = scaler.fit_transform(churners)\n",
    "\n",
    "k=3\n",
    "kmeans = KMeans(n_clusters=k, random_state=0, n_init=\"auto\")\n",
    "kmeans.fit(churners_scaled)"
   ]
  },
  {
   "cell_type": "code",
   "execution_count": 114,
   "metadata": {},
   "outputs": [],
   "source": [
    "churners[\"Cluster\"] = kmeans.labels_"
   ]
  },
  {
   "cell_type": "code",
   "execution_count": 115,
   "metadata": {},
   "outputs": [
    {
     "data": {
      "image/png": "[encoded data removed]",
      "text/plain": [
       "<Figure size 1152x360 with 3 Axes>"
      ]
     },
     "metadata": {
      "needs_background": "light"
     },
     "output_type": "display_data"
    }
   ],
   "source": [
    "plt.figure(figsize=(16, 5))\n",
    "\n",
    "for i in range(3):\n",
    "    plt.subplot(1, 3, i+1)\n",
    "    sns.boxplot(data=churners, x='Cluster', y=churners.columns[i])\n",
    "\n",
    "plt.tight_layout()\n",
    "plt.show()"
   ]
  },
  {
   "cell_type": "markdown",
   "metadata": {},
   "source": [
    "1. Segment Name: \"The Swift Attrition\"\n",
    "\n",
    "Characteristics:\n",
    "- Customers in this cluster have relatively short monthly tenures, with an average of around 12 months.\n",
    "- Despite their short tenures, they have relatively high monthly expenditures.\n",
    "- However, their CLTV is much lower compared to customers in other clusters.\n",
    "\n",
    "Marketing Strategy:\n",
    "- Focus on customer retention by highlighting the long-term benefits of telco services.\n",
    "- Customer Education: Provide tutorial content to educate customers on maximizing their service usage and the benefits they may have missed.\n",
    "- Loyalty Discounts: Offer incentives for them to extend their subscriptions, such as loyalty discounts.\n",
    "- Community Programs: Engage short-tenure customers to share their experiences with telco services and encourage them to become part of a larger community.\n",
    "\n",
    "2. Segment Name: \"The Moderate Churners\"\n",
    "\n",
    "Characteristics:\n",
    "- Customers in this cluster have moderate monthly tenures (average of around 6 months).\n",
    "- Their monthly expenditures are relatively high.\n",
    "- Despite having a potentially high CLTV, they still tend to churn for various reasons.\n",
    "\n",
    "Marketing Strategy:\n",
    "- Focus on customer retention by offering exclusive benefits and a premium experience.\n",
    "- Loyalty Enhancement: Provide exclusive benefits and premium telco package offers to enhance their overall experience.\n",
    "- Loyalty Programs: Offer loyalty programs, VIP access, and early access to new telco features to keep them loyal.\n",
    "- Customer Community: Organize engagement activities to seek feedback on service improvements and show appreciation for their loyalty.\n",
    "\n",
    "3. Segment Name: \"The High-Value Churners\"\n",
    "\n",
    "Characteristics:\n",
    "- Customers in this cluster have long monthly tenures (average of around 47 months).\n",
    "- They have high monthly expenditures and a potentially high CLTV.\n",
    "- However, they still tend to churn for various reasons.\n",
    "\n",
    "Marketing Strategy:\n",
    "- Focus on customer retention by emphasizing cost-effective telco service packages and the exploration of new subscription deals.\n",
    "- Promotional Marketing: Offer telco packages with promotional discounts to encourage sign-ups within a specific time frame.\n",
    "- Competitive Pricing Emphasis: Highlight competitive pricing between different telco subscriptions and the current one.\n",
    "- Freebie Marketing: Offer them free trials of new telco service packages to encourage them to explore with confidence and include free gifts when they sign up for a subscription plan."
   ]
  },
  {
   "cell_type": "code",
   "execution_count": 116,
   "metadata": {},
   "outputs": [
    {
     "name": "stdout",
     "output_type": "stream",
     "text": [
      "Cluster 0\n",
      "       Tenure Months  Monthly Purchase (Thou. IDR)  CLTV (Predicted Thou. IDR)\n",
      "count     738.000000                    738.000000                  738.000000\n",
      "mean       12.463415                     99.663936                 3824.189566\n",
      "std        12.331772                     26.798656                  784.552495\n",
      "min         1.000000                     25.090000                 2603.900000\n",
      "25%         2.000000                     90.691250                 3186.300000\n",
      "50%         8.000000                    104.390000                 3737.500000\n",
      "75%        19.000000                    118.251250                 4412.200000\n",
      "max        48.000000                    146.835000                 5918.900000\n",
      "\n",
      "Cluster 1\n",
      "       Tenure Months  Monthly Purchase (Thou. IDR)  CLTV (Predicted Thou. IDR)\n",
      "count     716.000000                    716.000000                  716.000000\n",
      "mean        6.765363                     79.964888                 6368.267877\n",
      "std         7.685658                     32.269540                  898.964935\n",
      "min         1.000000                     24.505000                 3846.700000\n",
      "25%         1.000000                     57.980000                 5723.900000\n",
      "50%         4.000000                     90.642500                 6424.600000\n",
      "75%        10.000000                    104.325000                 7150.975000\n",
      "max        53.000000                    143.130000                 8144.500000\n",
      "\n",
      "Cluster 2\n",
      "       Tenure Months  Monthly Purchase (Thou. IDR)  CLTV (Predicted Thou. IDR)\n",
      "count     415.000000                    415.000000                  415.000000\n",
      "mean       47.134940                    120.634361                 6505.785783\n",
      "std        14.987954                     22.096943                 1010.904427\n",
      "min        14.000000                     25.155000                 3546.400000\n",
      "25%        35.000000                    111.020000                 5750.550000\n",
      "50%        49.000000                    127.790000                 6514.300000\n",
      "75%        59.000000                    135.655000                 7302.750000\n",
      "max        72.000000                    153.855000                 8429.200000\n",
      "\n"
     ]
    }
   ],
   "source": [
    "for i in range(k):\n",
    "    print(\"Cluster\", i)\n",
    "    print(churners[churners[\"Cluster\"] == i][columns].describe())\n",
    "    print()"
   ]
  },
  {
   "cell_type": "markdown",
   "metadata": {},
   "source": [
    "### Non Churners Segmentation"
   ]
  },
  {
   "cell_type": "code",
   "execution_count": 47,
   "metadata": {},
   "outputs": [
    {
     "name": "stdout",
     "output_type": "stream",
     "text": [
      "Cluster 0\n",
      "       Tenure Months  Monthly Purchase (Thou. IDR)  CLTV (Predicted Thou. IDR)\n",
      "count     1895.00000                   1895.000000                 1895.000000\n",
      "mean        57.57942                    115.742121                 6723.176728\n",
      "std         14.62693                     21.904661                  936.718651\n",
      "min          2.00000                     54.730000                 4018.300000\n",
      "25%         51.00000                    100.717500                 5961.800000\n",
      "50%         62.00000                    117.455000                 6715.800000\n",
      "75%         70.00000                    134.875000                 7473.700000\n",
      "max         72.00000                    154.375000                 8450.000000\n",
      "\n",
      "Cluster 1\n",
      "       Tenure Months  Monthly Purchase (Thou. IDR)  CLTV (Predicted Thou. IDR)\n",
      "count    1568.000000                   1568.000000                 1568.000000\n",
      "mean       33.678571                     43.044343                 6653.360204\n",
      "std        23.881648                     22.958096                  853.832759\n",
      "min         0.000000                     23.725000                 4409.600000\n",
      "25%        11.000000                     26.000000                 5952.050000\n",
      "50%        31.000000                     31.785000                 6730.750000\n",
      "75%        55.000000                     59.036250                 7312.825000\n",
      "max        72.000000                    117.520000                 8448.700000\n",
      "\n",
      "Cluster 2\n",
      "       Tenure Months  Monthly Purchase (Thou. IDR)  CLTV (Predicted Thou. IDR)\n",
      "count    1711.000000                   1711.000000                 1711.000000\n",
      "mean       18.974868                     73.206677                 4111.014845\n",
      "std        13.995653                     34.846347                  932.197284\n",
      "min         0.000000                     24.310000                 2603.900000\n",
      "25%         6.000000                     32.955000                 3350.100000\n",
      "50%        17.000000                     74.945000                 4053.400000\n",
      "75%        30.000000                    102.570000                 4768.400000\n",
      "max        48.000000                    146.835000                 6641.700000\n",
      "\n"
     ]
    }
   ],
   "source": [
    "scaler = StandardScaler()\n",
    "non_churners_scaled = scaler.fit_transform(non_churners)\n",
    "\n",
    "k=3\n",
    "kmeans = KMeans(n_clusters=k, random_state=0, n_init=\"auto\")\n",
    "kmeans.fit(non_churners_scaled)\n",
    "\n",
    "non_churners[\"Cluster\"] = kmeans.labels_\n",
    "\n",
    "for i in range(k):\n",
    "    print(\"Cluster\", i)\n",
    "    print(non_churners[non_churners[\"Cluster\"] == i][columns].describe())\n",
    "    print()"
   ]
  },
  {
   "cell_type": "code",
   "execution_count": 46,
   "metadata": {},
   "outputs": [
    {
     "data": {
      "image/png": "[encoded data removed]",
      "text/plain": [
       "<Figure size 1152x360 with 3 Axes>"
      ]
     },
     "metadata": {
      "needs_background": "light"
     },
     "output_type": "display_data"
    }
   ],
   "source": [
    "plt.figure(figsize=(16, 5))\n",
    "\n",
    "for i in range(3):\n",
    "    plt.subplot(1, 3, i+1)\n",
    "    sns.boxplot(data=churners, x='Cluster', y=churners.columns[i])\n",
    "\n",
    "plt.tight_layout()\n",
    "plt.show()"
   ]
  },
  {
   "cell_type": "markdown",
   "metadata": {},
   "source": [
    "1. Segment Name: \"The Loyal Premium Customers\"\n",
    "\n",
    "Characteristics:\n",
    "- Customers in this cluster have a long average tenure of around 57.58 months.\n",
    "- They have a relatively high average monthly purchase amount, approximately 115.74 Thousand IDR.\n",
    "- The predicted CLTV for this group is quite high.\n",
    "\n",
    "Marketing Strategy:\n",
    "- Focus on maintaining and enhancing the premium experience for these loyal customers.\n",
    "- Premium Enhancements: Offer premium features, exclusive content, and top-tier services to maintain their loyalty.\n",
    "- Loyalty Rewards: Implement a loyalty program with rewards and special privileges for long-standing customers.\n",
    "- Personalized Engagement: Engage with personalized content and offers to strengthen their loyalty.\n",
    "\n",
    "2. Segment Name: \"The Moderate Loyalty Segment\"\n",
    "\n",
    "Characteristics:\n",
    "- Customers in this cluster have an average tenure of about 33.68 months.\n",
    "- Their monthly purchase amounts are moderate, averaging around 43.04 Thousand IDR.\n",
    "- The predicted CLTV for this group is relatively high.\n",
    "\n",
    "Marketing Strategy:\n",
    "- Enhance customer loyalty by offering tailored packages and promotions.\n",
    "- Tailored Offers: Provide personalized package deals and promotions based on their preferences and history.\n",
    "- Customer Feedback: Actively seek their feedback to improve the services and offerings.\n",
    "- Loyalty Programs: Encourage participation in loyalty programs and reward them for their continued patronage.\n",
    "\n",
    "3. Segment Name: \"The Value-Seeking Customers\"\n",
    "\n",
    "Characteristics:\n",
    "- Customers in this cluster have an average tenure of about 19 months.\n",
    "- They have relatively lower monthly purchase amounts, averaging around 73.21 Thousand IDR.\n",
    "- The predicted CLTV for this group is lower compared to the other segments.\n",
    "\n",
    "Marketing Strategy:\n",
    "- Focus on offering cost-effective and value-driven services.\n",
    "- Value Packages: Promote affordable service packages and demonstrate their cost-effectiveness.\n",
    "- Education on Savings: Educate customers about how they can get more value for their spending.\n",
    "- Cost Savings: Emphasize the potential savings they can achieve by subscribing to specific packages."
   ]
  },
  {
   "cell_type": "code",
   "execution_count": 68,
   "metadata": {},
   "outputs": [
    {
     "data": {
      "text/html": [
       "<div>\n",
       "<style scoped>\n",
       "    .dataframe tbody tr th:only-of-type {\n",
       "        vertical-align: middle;\n",
       "    }\n",
       "\n",
       "    .dataframe tbody tr th {\n",
       "        vertical-align: top;\n",
       "    }\n",
       "\n",
       "    .dataframe thead th {\n",
       "        text-align: right;\n",
       "    }\n",
       "</style>\n",
       "<table border=\"1\" class=\"dataframe\">\n",
       "  <thead>\n",
       "    <tr style=\"text-align: right;\">\n",
       "      <th></th>\n",
       "      <th>Model</th>\n",
       "      <th>Churn Label</th>\n",
       "      <th>Segment</th>\n",
       "      <th>Characteristics</th>\n",
       "      <th>Marketing</th>\n",
       "    </tr>\n",
       "  </thead>\n",
       "  <tbody>\n",
       "    <tr>\n",
       "      <th>0</th>\n",
       "      <td>Value</td>\n",
       "      <td>Yes</td>\n",
       "      <td>The Swift Attrition</td>\n",
       "      <td>- Customers in this cluster have relatively sh...</td>\n",
       "      <td>- Focus on customer retention by highlighting ...</td>\n",
       "    </tr>\n",
       "    <tr>\n",
       "      <th>1</th>\n",
       "      <td>Value</td>\n",
       "      <td>Yes</td>\n",
       "      <td>The Moderate Churners</td>\n",
       "      <td>- Customers in this cluster have moderate mont...</td>\n",
       "      <td>- Focus on customer retention by offering excl...</td>\n",
       "    </tr>\n",
       "    <tr>\n",
       "      <th>2</th>\n",
       "      <td>Value</td>\n",
       "      <td>Yes</td>\n",
       "      <td>The High-Value Churners</td>\n",
       "      <td>- Customers in this cluster have long monthly ...</td>\n",
       "      <td>- Focus on customer retention by emphasizing c...</td>\n",
       "    </tr>\n",
       "    <tr>\n",
       "      <th>3</th>\n",
       "      <td>Value</td>\n",
       "      <td>No</td>\n",
       "      <td>The Loyal Premium Customers</td>\n",
       "      <td>- Customers in this cluster have a long averag...</td>\n",
       "      <td>- Focus on maintaining and enhancing the premi...</td>\n",
       "    </tr>\n",
       "    <tr>\n",
       "      <th>4</th>\n",
       "      <td>Value</td>\n",
       "      <td>No</td>\n",
       "      <td>The Moderate Loyalty Segment</td>\n",
       "      <td>- Customers in this cluster have an average te...</td>\n",
       "      <td>- Enhance customer loyalty by offering tailore...</td>\n",
       "    </tr>\n",
       "  </tbody>\n",
       "</table>\n",
       "</div>"
      ],
      "text/plain": [
       "   Model Churn Label                       Segment  \\\n",
       "0  Value         Yes           The Swift Attrition   \n",
       "1  Value         Yes         The Moderate Churners   \n",
       "2  Value         Yes       The High-Value Churners   \n",
       "3  Value          No   The Loyal Premium Customers   \n",
       "4  Value          No  The Moderate Loyalty Segment   \n",
       "\n",
       "                                     Characteristics  \\\n",
       "0  - Customers in this cluster have relatively sh...   \n",
       "1  - Customers in this cluster have moderate mont...   \n",
       "2  - Customers in this cluster have long monthly ...   \n",
       "3  - Customers in this cluster have a long averag...   \n",
       "4  - Customers in this cluster have an average te...   \n",
       "\n",
       "                                           Marketing  \n",
       "0  - Focus on customer retention by highlighting ...  \n",
       "1  - Focus on customer retention by offering excl...  \n",
       "2  - Focus on customer retention by emphasizing c...  \n",
       "3  - Focus on maintaining and enhancing the premi...  \n",
       "4  - Enhance customer loyalty by offering tailore...  "
      ]
     },
     "execution_count": 68,
     "metadata": {},
     "output_type": "execute_result"
    }
   ],
   "source": [
    "segment_df = pd.read_excel(\"data/segmentation.xlsx\")\n",
    "segment_df.head()"
   ]
  },
  {
   "cell_type": "code",
   "execution_count": 67,
   "metadata": {},
   "outputs": [
    {
     "data": {
      "text/html": [
       "<div>\n",
       "<style scoped>\n",
       "    .dataframe tbody tr th:only-of-type {\n",
       "        vertical-align: middle;\n",
       "    }\n",
       "\n",
       "    .dataframe tbody tr th {\n",
       "        vertical-align: top;\n",
       "    }\n",
       "\n",
       "    .dataframe thead th {\n",
       "        text-align: right;\n",
       "    }\n",
       "</style>\n",
       "<table border=\"1\" class=\"dataframe\">\n",
       "  <thead>\n",
       "    <tr style=\"text-align: right;\">\n",
       "      <th></th>\n",
       "      <th>Model</th>\n",
       "      <th>Churn Label</th>\n",
       "      <th>Segment</th>\n",
       "      <th>Characteristics</th>\n",
       "      <th>Markteting</th>\n",
       "    </tr>\n",
       "  </thead>\n",
       "  <tbody>\n",
       "    <tr>\n",
       "      <th>3</th>\n",
       "      <td>Value</td>\n",
       "      <td>No</td>\n",
       "      <td>The Loyal Premium Customers</td>\n",
       "      <td>- Customers in this cluster have a long averag...</td>\n",
       "      <td>- Focus on maintaining and enhancing the premi...</td>\n",
       "    </tr>\n",
       "    <tr>\n",
       "      <th>4</th>\n",
       "      <td>Value</td>\n",
       "      <td>No</td>\n",
       "      <td>The Moderate Loyalty Segment</td>\n",
       "      <td>- Customers in this cluster have an average te...</td>\n",
       "      <td>- Enhance customer loyalty by offering tailore...</td>\n",
       "    </tr>\n",
       "    <tr>\n",
       "      <th>5</th>\n",
       "      <td>Value</td>\n",
       "      <td>No</td>\n",
       "      <td>The Value-Seeking Customers</td>\n",
       "      <td>- Customers in this cluster have an average te...</td>\n",
       "      <td>- Focus on offering cost-effective and value-d...</td>\n",
       "    </tr>\n",
       "  </tbody>\n",
       "</table>\n",
       "</div>"
      ],
      "text/plain": [
       "   Model Churn Label                       Segment  \\\n",
       "3  Value          No   The Loyal Premium Customers   \n",
       "4  Value          No  The Moderate Loyalty Segment   \n",
       "5  Value          No   The Value-Seeking Customers   \n",
       "\n",
       "                                     Characteristics  \\\n",
       "3  - Customers in this cluster have a long averag...   \n",
       "4  - Customers in this cluster have an average te...   \n",
       "5  - Customers in this cluster have an average te...   \n",
       "\n",
       "                                          Markteting  \n",
       "3  - Focus on maintaining and enhancing the premi...  \n",
       "4  - Enhance customer loyalty by offering tailore...  \n",
       "5  - Focus on offering cost-effective and value-d...  "
      ]
     },
     "execution_count": 67,
     "metadata": {},
     "output_type": "execute_result"
    }
   ],
   "source": [
    "filter = \"Yes\"\n",
    "model = \"Value-based Segmentation\"\n",
    "\n",
    "model = \"Value\" if \"Value\" in model else \"Needs\"\n",
    "\n",
    "if filter == \"Show All\":\n",
    "    temp = segment_df[segment_df[\"Model\"] == model]\n",
    "elif filter == \"Churners\":\n",
    "    temp = segment_df[(segment_df[\"Model\"] == model) & (segment_df[\"Churn Label\"] == \"Yes\")]\n",
    "else:\n",
    "    temp = segment_df[(segment_df[\"Model\"] == model) & (segment_df[\"Churn Label\"] == \"No\")]\n",
    "\n",
    "temp"
   ]
  },
  {
   "cell_type": "markdown",
   "metadata": {},
   "source": [
    "# Needs-based Segmentation"
   ]
  },
  {
   "cell_type": "code",
   "execution_count": 87,
   "metadata": {},
   "outputs": [
    {
     "data": {
      "text/html": [
       "<div>\n",
       "<style scoped>\n",
       "    .dataframe tbody tr th:only-of-type {\n",
       "        vertical-align: middle;\n",
       "    }\n",
       "\n",
       "    .dataframe tbody tr th {\n",
       "        vertical-align: top;\n",
       "    }\n",
       "\n",
       "    .dataframe thead th {\n",
       "        text-align: right;\n",
       "    }\n",
       "</style>\n",
       "<table border=\"1\" class=\"dataframe\">\n",
       "  <thead>\n",
       "    <tr style=\"text-align: right;\">\n",
       "      <th></th>\n",
       "      <th>Games Product</th>\n",
       "      <th>Music Product</th>\n",
       "      <th>Education Product</th>\n",
       "      <th>Video Product</th>\n",
       "    </tr>\n",
       "  </thead>\n",
       "  <tbody>\n",
       "    <tr>\n",
       "      <th>0</th>\n",
       "      <td>Yes</td>\n",
       "      <td>Yes</td>\n",
       "      <td>No</td>\n",
       "      <td>No</td>\n",
       "    </tr>\n",
       "    <tr>\n",
       "      <th>1</th>\n",
       "      <td>No</td>\n",
       "      <td>No</td>\n",
       "      <td>No</td>\n",
       "      <td>No</td>\n",
       "    </tr>\n",
       "    <tr>\n",
       "      <th>2</th>\n",
       "      <td>No</td>\n",
       "      <td>No</td>\n",
       "      <td>Yes</td>\n",
       "      <td>Yes</td>\n",
       "    </tr>\n",
       "    <tr>\n",
       "      <th>3</th>\n",
       "      <td>No</td>\n",
       "      <td>No</td>\n",
       "      <td>Yes</td>\n",
       "      <td>Yes</td>\n",
       "    </tr>\n",
       "    <tr>\n",
       "      <th>4</th>\n",
       "      <td>No</td>\n",
       "      <td>Yes</td>\n",
       "      <td>Yes</td>\n",
       "      <td>Yes</td>\n",
       "    </tr>\n",
       "  </tbody>\n",
       "</table>\n",
       "</div>"
      ],
      "text/plain": [
       "  Games Product Music Product Education Product Video Product\n",
       "0           Yes           Yes                No            No\n",
       "1            No            No                No            No\n",
       "2            No            No               Yes           Yes\n",
       "3            No            No               Yes           Yes\n",
       "4            No           Yes               Yes           Yes"
      ]
     },
     "execution_count": 87,
     "metadata": {},
     "output_type": "execute_result"
    }
   ],
   "source": [
    "df = pd.read_excel(\"data/Telco_customer_churn_adapted_v2.xlsx\")\n",
    "columns = ['Games Product', 'Music Product', 'Education Product', 'Video Product']\n",
    "X = df.copy()[columns]\n",
    "\n",
    "churners = X.loc[df[df[\"Churn Label\"] == \"Yes\"].index]\n",
    "non_churners = X.loc[df[df[\"Churn Label\"] == \"No\"].index]\n",
    "churners.head()"
   ]
  },
  {
   "cell_type": "markdown",
   "metadata": {},
   "source": [
    "### Chruners"
   ]
  },
  {
   "cell_type": "code",
   "execution_count": 88,
   "metadata": {},
   "outputs": [
    {
     "data": {
      "text/plain": [
       "113"
      ]
     },
     "execution_count": 88,
     "metadata": {},
     "output_type": "execute_result"
    }
   ],
   "source": [
    "len(churners[churners[\"Video Product\"] == 'No internet service'])"
   ]
  },
  {
   "cell_type": "code",
   "execution_count": null,
   "metadata": {},
   "outputs": [],
   "source": [
    "churners = churners[churners[\"Video Product\"] != 'No internet service']"
   ]
  },
  {
   "cell_type": "code",
   "execution_count": 90,
   "metadata": {},
   "outputs": [],
   "source": [
    "for col in columns:\n",
    "    # print(col)\n",
    "    # print(churners[col].unique())\n",
    "    # print()\n",
    "\n",
    "    churners[col] = churners[col].replace({\"Yes\": 1, \"No\":0})"
   ]
  },
  {
   "cell_type": "code",
   "execution_count": 91,
   "metadata": {},
   "outputs": [
    {
     "data": {
      "text/html": [
       "<style>#sk-container-id-6 {color: black;background-color: white;}#sk-container-id-6 pre{padding: 0;}#sk-container-id-6 div.sk-toggleable {background-color: white;}#sk-container-id-6 label.sk-toggleable__label {cursor: pointer;display: block;width: 100%;margin-bottom: 0;padding: 0.3em;box-sizing: border-box;text-align: center;}#sk-container-id-6 label.sk-toggleable__label-arrow:before {content: \"▸\";float: left;margin-right: 0.25em;color: #696969;}#sk-container-id-6 label.sk-toggleable__label-arrow:hover:before {color: black;}#sk-container-id-6 div.sk-estimator:hover label.sk-toggleable__label-arrow:before {color: black;}#sk-container-id-6 div.sk-toggleable__content {max-height: 0;max-width: 0;overflow: hidden;text-align: left;background-color: #f0f8ff;}#sk-container-id-6 div.sk-toggleable__content pre {margin: 0.2em;color: black;border-radius: 0.25em;background-color: #f0f8ff;}#sk-container-id-6 input.sk-toggleable__control:checked~div.sk-toggleable__content {max-height: 200px;max-width: 100%;overflow: auto;}#sk-container-id-6 input.sk-toggleable__control:checked~label.sk-toggleable__label-arrow:before {content: \"▾\";}#sk-container-id-6 div.sk-estimator input.sk-toggleable__control:checked~label.sk-toggleable__label {background-color: #d4ebff;}#sk-container-id-6 div.sk-label input.sk-toggleable__control:checked~label.sk-toggleable__label {background-color: #d4ebff;}#sk-container-id-6 input.sk-hidden--visually {border: 0;clip: rect(1px 1px 1px 1px);clip: rect(1px, 1px, 1px, 1px);height: 1px;margin: -1px;overflow: hidden;padding: 0;position: absolute;width: 1px;}#sk-container-id-6 div.sk-estimator {font-family: monospace;background-color: #f0f8ff;border: 1px dotted black;border-radius: 0.25em;box-sizing: border-box;margin-bottom: 0.5em;}#sk-container-id-6 div.sk-estimator:hover {background-color: #d4ebff;}#sk-container-id-6 div.sk-parallel-item::after {content: \"\";width: 100%;border-bottom: 1px solid gray;flex-grow: 1;}#sk-container-id-6 div.sk-label:hover label.sk-toggleable__label {background-color: #d4ebff;}#sk-container-id-6 div.sk-serial::before {content: \"\";position: absolute;border-left: 1px solid gray;box-sizing: border-box;top: 0;bottom: 0;left: 50%;z-index: 0;}#sk-container-id-6 div.sk-serial {display: flex;flex-direction: column;align-items: center;background-color: white;padding-right: 0.2em;padding-left: 0.2em;position: relative;}#sk-container-id-6 div.sk-item {position: relative;z-index: 1;}#sk-container-id-6 div.sk-parallel {display: flex;align-items: stretch;justify-content: center;background-color: white;position: relative;}#sk-container-id-6 div.sk-item::before, #sk-container-id-6 div.sk-parallel-item::before {content: \"\";position: absolute;border-left: 1px solid gray;box-sizing: border-box;top: 0;bottom: 0;left: 50%;z-index: -1;}#sk-container-id-6 div.sk-parallel-item {display: flex;flex-direction: column;z-index: 1;position: relative;background-color: white;}#sk-container-id-6 div.sk-parallel-item:first-child::after {align-self: flex-end;width: 50%;}#sk-container-id-6 div.sk-parallel-item:last-child::after {align-self: flex-start;width: 50%;}#sk-container-id-6 div.sk-parallel-item:only-child::after {width: 0;}#sk-container-id-6 div.sk-dashed-wrapped {border: 1px dashed gray;margin: 0 0.4em 0.5em 0.4em;box-sizing: border-box;padding-bottom: 0.4em;background-color: white;}#sk-container-id-6 div.sk-label label {font-family: monospace;font-weight: bold;display: inline-block;line-height: 1.2em;}#sk-container-id-6 div.sk-label-container {text-align: center;}#sk-container-id-6 div.sk-container {/* jupyter's `normalize.less` sets `[hidden] { display: none; }` but bootstrap.min.css set `[hidden] { display: none !important; }` so we also need the `!important` here to be able to override the default hidden behavior on the sphinx rendered scikit-learn.org. See: https://github.com/scikit-learn/scikit-learn/issues/21755 */display: inline-block !important;position: relative;}#sk-container-id-6 div.sk-text-repr-fallback {display: none;}</style><div id=\"sk-container-id-6\" class=\"sk-top-container\"><div class=\"sk-text-repr-fallback\"><pre>KMeans(n_clusters=2, n_init=&#x27;auto&#x27;, random_state=0)</pre><b>In a Jupyter environment, please rerun this cell to show the HTML representation or trust the notebook. <br />On GitHub, the HTML representation is unable to render, please try loading this page with nbviewer.org.</b></div><div class=\"sk-container\" hidden><div class=\"sk-item\"><div class=\"sk-estimator sk-toggleable\"><input class=\"sk-toggleable__control sk-hidden--visually\" id=\"sk-estimator-id-6\" type=\"checkbox\" checked><label for=\"sk-estimator-id-6\" class=\"sk-toggleable__label sk-toggleable__label-arrow\">KMeans</label><div class=\"sk-toggleable__content\"><pre>KMeans(n_clusters=2, n_init=&#x27;auto&#x27;, random_state=0)</pre></div></div></div></div></div>"
      ],
      "text/plain": [
       "KMeans(n_clusters=2, n_init='auto', random_state=0)"
      ]
     },
     "execution_count": 91,
     "metadata": {},
     "output_type": "execute_result"
    }
   ],
   "source": [
    "scaler = StandardScaler()\n",
    "churners_scaled = scaler.fit_transform(churners)\n",
    "\n",
    "k=2\n",
    "kmeans = KMeans(n_clusters=k, random_state=0, n_init=\"auto\")\n",
    "kmeans.fit(churners_scaled)"
   ]
  },
  {
   "cell_type": "code",
   "execution_count": 92,
   "metadata": {},
   "outputs": [
    {
     "name": "stdout",
     "output_type": "stream",
     "text": [
      "CLUSTER 0, len = 1239\n",
      "cluster 0 Games Product\n",
      "No     1133\n",
      "Yes     106\n",
      "Name: Games Product, dtype: int64\n",
      "\n",
      "cluster 0 Music Product\n",
      "No     970\n",
      "Yes    269\n",
      "Name: Music Product, dtype: int64\n",
      "\n",
      "cluster 0 Education Product\n",
      "No     1135\n",
      "Yes     104\n",
      "Name: Education Product, dtype: int64\n",
      "\n",
      "cluster 0 Video Product\n",
      "No     858\n",
      "Yes    381\n",
      "Name: Video Product, dtype: int64\n",
      "\n",
      "CLUSTER 1, len = 517\n",
      "cluster 1 Games Product\n",
      "No     328\n",
      "Yes    189\n",
      "Name: Games Product, dtype: int64\n",
      "\n",
      "cluster 1 Music Product\n",
      "No     263\n",
      "Yes    254\n",
      "Name: Music Product, dtype: int64\n",
      "\n",
      "cluster 1 Education Product\n",
      "Yes    441\n",
      "No      76\n",
      "Name: Education Product, dtype: int64\n",
      "\n",
      "cluster 1 Video Product\n",
      "Yes    433\n",
      "No      84\n",
      "Name: Video Product, dtype: int64\n",
      "\n"
     ]
    }
   ],
   "source": [
    "result = churners.copy()\n",
    "result[\"label\"] = kmeans.labels_\n",
    "\n",
    "for col in columns:\n",
    "    result[col] = result[col].replace({1: \"Yes\", 0: \"No\"})\n",
    "\n",
    "for i in range(k):\n",
    "    temp = result[result[\"label\"] == i]\n",
    "    print(f\"CLUSTER {i}, len = {len(temp)}\")\n",
    "\n",
    "    for col in columns:\n",
    "        print(\"cluster\", i, col)\n",
    "        print(temp[col].value_counts())\n",
    "        print()"
   ]
  },
  {
   "cell_type": "code",
   "execution_count": 93,
   "metadata": {},
   "outputs": [
    {
     "name": "stdout",
     "output_type": "stream",
     "text": [
      "CLUSTER 2, len = 113\n",
      "cluster 2 Games Product\n",
      "No internet service    113\n",
      "Name: Games Product, dtype: int64\n",
      "\n",
      "cluster 2 Music Product\n",
      "No internet service    113\n",
      "Name: Music Product, dtype: int64\n",
      "\n",
      "cluster 2 Education Product\n",
      "No internet service    113\n",
      "Name: Education Product, dtype: int64\n",
      "\n",
      "cluster 2 Video Product\n",
      "No internet service    113\n",
      "Name: Video Product, dtype: int64\n",
      "\n"
     ]
    }
   ],
   "source": [
    "temp = X.loc[df[df[\"Churn Label\"] == \"Yes\"].index]\n",
    "cluster_2 = temp[temp[\"Video Product\"] == \"No internet service\"]\n",
    "\n",
    "\n",
    "print(f\"CLUSTER {2}, len = {len(cluster_2)}\")\n",
    "for col in columns:\n",
    "    print(\"cluster\", 2, col)\n",
    "    print(cluster_2[col].value_counts())\n",
    "    print()"
   ]
  },
  {
   "cell_type": "markdown",
   "metadata": {},
   "source": [
    "### Non Churners"
   ]
  },
  {
   "cell_type": "code",
   "execution_count": 94,
   "metadata": {},
   "outputs": [],
   "source": [
    "non_churners = non_churners[non_churners[\"Video Product\"] != 'No internet service']"
   ]
  },
  {
   "cell_type": "code",
   "execution_count": 95,
   "metadata": {},
   "outputs": [],
   "source": [
    "for col in columns:\n",
    "    # print(col)\n",
    "    # print(non_churners[col].unique())\n",
    "    # print()\n",
    "\n",
    "    non_churners[col] = non_churners[col].replace({\"Yes\": 1, \"No\":0})"
   ]
  },
  {
   "cell_type": "code",
   "execution_count": 96,
   "metadata": {},
   "outputs": [
    {
     "data": {
      "text/html": [
       "<style>#sk-container-id-7 {color: black;background-color: white;}#sk-container-id-7 pre{padding: 0;}#sk-container-id-7 div.sk-toggleable {background-color: white;}#sk-container-id-7 label.sk-toggleable__label {cursor: pointer;display: block;width: 100%;margin-bottom: 0;padding: 0.3em;box-sizing: border-box;text-align: center;}#sk-container-id-7 label.sk-toggleable__label-arrow:before {content: \"▸\";float: left;margin-right: 0.25em;color: #696969;}#sk-container-id-7 label.sk-toggleable__label-arrow:hover:before {color: black;}#sk-container-id-7 div.sk-estimator:hover label.sk-toggleable__label-arrow:before {color: black;}#sk-container-id-7 div.sk-toggleable__content {max-height: 0;max-width: 0;overflow: hidden;text-align: left;background-color: #f0f8ff;}#sk-container-id-7 div.sk-toggleable__content pre {margin: 0.2em;color: black;border-radius: 0.25em;background-color: #f0f8ff;}#sk-container-id-7 input.sk-toggleable__control:checked~div.sk-toggleable__content {max-height: 200px;max-width: 100%;overflow: auto;}#sk-container-id-7 input.sk-toggleable__control:checked~label.sk-toggleable__label-arrow:before {content: \"▾\";}#sk-container-id-7 div.sk-estimator input.sk-toggleable__control:checked~label.sk-toggleable__label {background-color: #d4ebff;}#sk-container-id-7 div.sk-label input.sk-toggleable__control:checked~label.sk-toggleable__label {background-color: #d4ebff;}#sk-container-id-7 input.sk-hidden--visually {border: 0;clip: rect(1px 1px 1px 1px);clip: rect(1px, 1px, 1px, 1px);height: 1px;margin: -1px;overflow: hidden;padding: 0;position: absolute;width: 1px;}#sk-container-id-7 div.sk-estimator {font-family: monospace;background-color: #f0f8ff;border: 1px dotted black;border-radius: 0.25em;box-sizing: border-box;margin-bottom: 0.5em;}#sk-container-id-7 div.sk-estimator:hover {background-color: #d4ebff;}#sk-container-id-7 div.sk-parallel-item::after {content: \"\";width: 100%;border-bottom: 1px solid gray;flex-grow: 1;}#sk-container-id-7 div.sk-label:hover label.sk-toggleable__label {background-color: #d4ebff;}#sk-container-id-7 div.sk-serial::before {content: \"\";position: absolute;border-left: 1px solid gray;box-sizing: border-box;top: 0;bottom: 0;left: 50%;z-index: 0;}#sk-container-id-7 div.sk-serial {display: flex;flex-direction: column;align-items: center;background-color: white;padding-right: 0.2em;padding-left: 0.2em;position: relative;}#sk-container-id-7 div.sk-item {position: relative;z-index: 1;}#sk-container-id-7 div.sk-parallel {display: flex;align-items: stretch;justify-content: center;background-color: white;position: relative;}#sk-container-id-7 div.sk-item::before, #sk-container-id-7 div.sk-parallel-item::before {content: \"\";position: absolute;border-left: 1px solid gray;box-sizing: border-box;top: 0;bottom: 0;left: 50%;z-index: -1;}#sk-container-id-7 div.sk-parallel-item {display: flex;flex-direction: column;z-index: 1;position: relative;background-color: white;}#sk-container-id-7 div.sk-parallel-item:first-child::after {align-self: flex-end;width: 50%;}#sk-container-id-7 div.sk-parallel-item:last-child::after {align-self: flex-start;width: 50%;}#sk-container-id-7 div.sk-parallel-item:only-child::after {width: 0;}#sk-container-id-7 div.sk-dashed-wrapped {border: 1px dashed gray;margin: 0 0.4em 0.5em 0.4em;box-sizing: border-box;padding-bottom: 0.4em;background-color: white;}#sk-container-id-7 div.sk-label label {font-family: monospace;font-weight: bold;display: inline-block;line-height: 1.2em;}#sk-container-id-7 div.sk-label-container {text-align: center;}#sk-container-id-7 div.sk-container {/* jupyter's `normalize.less` sets `[hidden] { display: none; }` but bootstrap.min.css set `[hidden] { display: none !important; }` so we also need the `!important` here to be able to override the default hidden behavior on the sphinx rendered scikit-learn.org. See: https://github.com/scikit-learn/scikit-learn/issues/21755 */display: inline-block !important;position: relative;}#sk-container-id-7 div.sk-text-repr-fallback {display: none;}</style><div id=\"sk-container-id-7\" class=\"sk-top-container\"><div class=\"sk-text-repr-fallback\"><pre>KMeans(n_clusters=3, n_init=&#x27;auto&#x27;, random_state=0)</pre><b>In a Jupyter environment, please rerun this cell to show the HTML representation or trust the notebook. <br />On GitHub, the HTML representation is unable to render, please try loading this page with nbviewer.org.</b></div><div class=\"sk-container\" hidden><div class=\"sk-item\"><div class=\"sk-estimator sk-toggleable\"><input class=\"sk-toggleable__control sk-hidden--visually\" id=\"sk-estimator-id-7\" type=\"checkbox\" checked><label for=\"sk-estimator-id-7\" class=\"sk-toggleable__label sk-toggleable__label-arrow\">KMeans</label><div class=\"sk-toggleable__content\"><pre>KMeans(n_clusters=3, n_init=&#x27;auto&#x27;, random_state=0)</pre></div></div></div></div></div>"
      ],
      "text/plain": [
       "KMeans(n_clusters=3, n_init='auto', random_state=0)"
      ]
     },
     "execution_count": 96,
     "metadata": {},
     "output_type": "execute_result"
    }
   ],
   "source": [
    "scaler = StandardScaler()\n",
    "non_churners_scaled = scaler.fit_transform(non_churners)\n",
    "\n",
    "k=3\n",
    "kmeans = KMeans(n_clusters=k, random_state=0, n_init=\"auto\")\n",
    "kmeans.fit(non_churners_scaled)"
   ]
  },
  {
   "cell_type": "code",
   "execution_count": 97,
   "metadata": {},
   "outputs": [
    {
     "name": "stdout",
     "output_type": "stream",
     "text": [
      "CLUSTER 0, len = 1488\n",
      "cluster 0 Games Product\n",
      "No     1131\n",
      "Yes     357\n",
      "Name: Games Product, dtype: int64\n",
      "\n",
      "cluster 0 Music Product\n",
      "No     1249\n",
      "Yes     239\n",
      "Name: Music Product, dtype: int64\n",
      "\n",
      "cluster 0 Education Product\n",
      "No     1312\n",
      "Yes     176\n",
      "Name: Education Product, dtype: int64\n",
      "\n",
      "cluster 0 Video Product\n",
      "No     1154\n",
      "Yes     334\n",
      "Name: Video Product, dtype: int64\n",
      "\n",
      "CLUSTER 1, len = 1367\n",
      "cluster 1 Games Product\n",
      "Yes    1367\n",
      "Name: Games Product, dtype: int64\n",
      "\n",
      "cluster 1 Music Product\n",
      "Yes    1007\n",
      "No      360\n",
      "Name: Music Product, dtype: int64\n",
      "\n",
      "cluster 1 Education Product\n",
      "Yes    998\n",
      "No     369\n",
      "Name: Education Product, dtype: int64\n",
      "\n",
      "cluster 1 Video Product\n",
      "Yes    786\n",
      "No     581\n",
      "Name: Video Product, dtype: int64\n",
      "\n",
      "CLUSTER 2, len = 906\n",
      "cluster 2 Games Product\n",
      "No    906\n",
      "Name: Games Product, dtype: int64\n",
      "\n",
      "cluster 2 Music Product\n",
      "Yes    660\n",
      "No     246\n",
      "Name: Music Product, dtype: int64\n",
      "\n",
      "cluster 2 Education Product\n",
      "Yes    703\n",
      "No     203\n",
      "Name: Education Product, dtype: int64\n",
      "\n",
      "cluster 2 Video Product\n",
      "Yes    773\n",
      "No     133\n",
      "Name: Video Product, dtype: int64\n",
      "\n"
     ]
    }
   ],
   "source": [
    "result = non_churners.copy()\n",
    "result[\"label\"] = kmeans.labels_\n",
    "\n",
    "for col in columns:\n",
    "    result[col] = result[col].replace({1: \"Yes\", 0: \"No\"})\n",
    "\n",
    "for i in range(k):\n",
    "    temp = result[result[\"label\"] == i]\n",
    "    print(f\"CLUSTER {i}, len = {len(temp)}\")\n",
    "\n",
    "    for col in columns:\n",
    "        print(\"cluster\", i, col)\n",
    "        print(temp[col].value_counts())\n",
    "        print()"
   ]
  },
  {
   "cell_type": "code",
   "execution_count": 98,
   "metadata": {},
   "outputs": [
    {
     "name": "stdout",
     "output_type": "stream",
     "text": [
      "CLUSTER 3, len = 1413\n",
      "cluster 3 Games Product\n",
      "No internet service    1413\n",
      "Name: Games Product, dtype: int64\n",
      "\n",
      "cluster 3 Music Product\n",
      "No internet service    1413\n",
      "Name: Music Product, dtype: int64\n",
      "\n",
      "cluster 3 Education Product\n",
      "No internet service    1413\n",
      "Name: Education Product, dtype: int64\n",
      "\n",
      "cluster 3 Video Product\n",
      "No internet service    1413\n",
      "Name: Video Product, dtype: int64\n",
      "\n"
     ]
    }
   ],
   "source": [
    "temp = X.loc[df[df[\"Churn Label\"] == \"No\"].index]\n",
    "cluster_3 = temp[temp[\"Video Product\"] == \"No internet service\"]\n",
    "\n",
    "\n",
    "print(f\"CLUSTER {3}, len = {len(cluster_3)}\")\n",
    "for col in columns:\n",
    "    print(\"cluster\", 3, col)\n",
    "    print(cluster_3[col].value_counts())\n",
    "    print()"
   ]
  },
  {
   "cell_type": "markdown",
   "metadata": {},
   "source": [
    "### Ubah pendekatan"
   ]
  },
  {
   "cell_type": "code",
   "execution_count": 99,
   "metadata": {},
   "outputs": [],
   "source": [
    "from mlxtend.frequent_patterns import apriori, association_rules\n",
    "from mlxtend.preprocessing import TransactionEncoder"
   ]
  },
  {
   "cell_type": "code",
   "execution_count": 100,
   "metadata": {},
   "outputs": [
    {
     "name": "stdout",
     "output_type": "stream",
     "text": [
      "Processing 12 combinations | Sampling itemset size 2\n",
      "    support                        itemsets\n",
      "0  0.118280             (Education Product)\n",
      "1  0.239919                 (Games Product)\n",
      "2  0.160618                 (Music Product)\n",
      "3  0.224462                 (Video Product)\n",
      "4  0.075269  (Games Product, Video Product)\n"
     ]
    }
   ],
   "source": [
    "cluster_0 = result[result[\"label\"] == 0].drop(\"label\", axis=1).reset_index(drop=True)\n",
    "\n",
    "transactions = list()\n",
    "for i in range(len(cluster_0)):\n",
    "    x = cluster_0.iloc[i]\n",
    "\n",
    "    product_used = list()\n",
    "    for product_name, usage in zip(x.index, x):\n",
    "        if usage == \"Yes\":\n",
    "            product_used.append(product_name)\n",
    "    transactions.append(product_used)\n",
    "\n",
    "encoder = TransactionEncoder()\n",
    "one_hot = encoder.fit(transactions).transform(transactions)\n",
    "one_hot_df = pd.DataFrame(one_hot,columns=encoder.columns_)\n",
    "\n",
    "apriori_result = apriori(one_hot_df, min_support = 1e-5, use_colnames = True, verbose = 1)\n",
    "print(apriori_result.head(20))"
   ]
  },
  {
   "cell_type": "code",
   "execution_count": 101,
   "metadata": {},
   "outputs": [
    {
     "name": "stdout",
     "output_type": "stream",
     "text": [
      "Processing 12 combinations | Sampling itemset size 2"
     ]
    },
    {
     "name": "stdout",
     "output_type": "stream",
     "text": [
      "Processing 4 combinations | Sampling itemset size 43\n",
      "     support                                           itemsets\n",
      "0   0.730066                                (Education Product)\n",
      "1   1.000000                                    (Games Product)\n",
      "2   0.736650                                    (Music Product)\n",
      "3   0.574982                                    (Video Product)\n",
      "4   0.730066                 (Games Product, Education Product)\n",
      "5   0.466715                 (Music Product, Education Product)\n",
      "6   0.468178                 (Video Product, Education Product)\n",
      "7   0.736650                     (Games Product, Music Product)\n",
      "8   0.574982                     (Games Product, Video Product)\n",
      "9   0.419898                     (Music Product, Video Product)\n",
      "10  0.466715  (Games Product, Education Product, Music Product)\n",
      "11  0.468178  (Games Product, Video Product, Education Product)\n",
      "12  0.313094  (Music Product, Video Product, Education Product)\n",
      "13  0.419898      (Games Product, Video Product, Music Product)\n",
      "14  0.313094  (Games Product, Video Product, Education Produ...\n"
     ]
    }
   ],
   "source": [
    "cluster_1 = result[result[\"label\"] == 1].drop(\"label\", axis=1).reset_index(drop=True)\n",
    "transactions = list()\n",
    "for i in range(len(cluster_1)):\n",
    "    x = cluster_1.iloc[i]\n",
    "\n",
    "    product_used = list()\n",
    "    for product_name, usage in zip(x.index, x):\n",
    "        if usage == \"Yes\":\n",
    "            product_used.append(product_name)\n",
    "    transactions.append(product_used)\n",
    "\n",
    "encoder = TransactionEncoder()\n",
    "one_hot = encoder.fit(transactions).transform(transactions)\n",
    "one_hot_df = pd.DataFrame(one_hot,columns=encoder.columns_)\n",
    "\n",
    "apriori_result = apriori(one_hot_df, min_support = 1e-5, use_colnames = True, verbose = 1)\n",
    "print(apriori_result.head(20))"
   ]
  },
  {
   "cell_type": "code",
   "execution_count": 105,
   "metadata": {},
   "outputs": [
    {
     "data": {
      "text/plain": [
       "frozenset({'Education Product',\n",
       "           'Games Product',\n",
       "           'Music Product',\n",
       "           'Video Product'})"
      ]
     },
     "execution_count": 105,
     "metadata": {},
     "output_type": "execute_result"
    }
   ],
   "source": [
    "apriori_result.iloc[14][\"itemsets\"]"
   ]
  },
  {
   "cell_type": "code",
   "execution_count": 102,
   "metadata": {},
   "outputs": [
    {
     "name": "stdout",
     "output_type": "stream",
     "text": [
      "Processing 3 combinations | Sampling itemset size 3\n",
      "    support                                           itemsets\n",
      "0  0.775938                                (Education Product)\n",
      "1  0.728477                                    (Music Product)\n",
      "2  0.853201                                    (Video Product)\n",
      "3  0.504415                 (Music Product, Education Product)\n",
      "4  0.629139                 (Video Product, Education Product)\n",
      "5  0.581678                     (Music Product, Video Product)\n",
      "6  0.357616  (Music Product, Video Product, Education Product)\n"
     ]
    }
   ],
   "source": [
    "cluster_2 = result[result[\"label\"] == 2].drop(\"label\", axis=1).reset_index(drop=True)\n",
    "\n",
    "transactions = list()\n",
    "for i in range(len(cluster_2)):\n",
    "    x = cluster_2.iloc[i]\n",
    "\n",
    "    product_used = list()\n",
    "    for product_name, usage in zip(x.index, x):\n",
    "        if usage == \"Yes\":\n",
    "            product_used.append(product_name)\n",
    "    transactions.append(product_used)\n",
    "\n",
    "encoder = TransactionEncoder()\n",
    "one_hot = encoder.fit(transactions).transform(transactions)\n",
    "one_hot_df = pd.DataFrame(one_hot,columns=encoder.columns_)\n",
    "\n",
    "apriori_result = apriori(one_hot_df, min_support = 1e-5, use_colnames = True, verbose = 1)\n",
    "print(apriori_result.head(20))"
   ]
  },
  {
   "cell_type": "code",
   "execution_count": 103,
   "metadata": {},
   "outputs": [
    {
     "name": "stdout",
     "output_type": "stream",
     "text": [
      "Processing 12 combinations | Sampling itemset size 2"
     ]
    },
    {
     "name": "stdout",
     "output_type": "stream",
     "text": [
      "Processing 4 combinations | Sampling itemset size 43\n",
      "    support                                           itemsets\n",
      "0       1.0                                (Education Product)\n",
      "1       1.0                                    (Games Product)\n",
      "2       1.0                                    (Music Product)\n",
      "3       1.0                                    (Video Product)\n",
      "4       1.0                 (Games Product, Education Product)\n",
      "5       1.0                 (Music Product, Education Product)\n",
      "6       1.0                 (Video Product, Education Product)\n",
      "7       1.0                     (Games Product, Music Product)\n",
      "8       1.0                     (Games Product, Video Product)\n",
      "9       1.0                     (Music Product, Video Product)\n",
      "10      1.0  (Games Product, Education Product, Music Product)\n",
      "11      1.0  (Games Product, Video Product, Education Product)\n",
      "12      1.0  (Music Product, Video Product, Education Product)\n",
      "13      1.0      (Games Product, Video Product, Music Product)\n",
      "14      1.0  (Games Product, Video Product, Education Produ...\n"
     ]
    }
   ],
   "source": [
    "temp = X.loc[df[df[\"Churn Label\"] == \"No\"].index]\n",
    "cluster_3 = temp[temp[\"Video Product\"] == \"No internet service\"]\n",
    "\n",
    "transactions = list()\n",
    "for i in range(len(cluster_3)):\n",
    "    x = cluster_3.iloc[i]\n",
    "\n",
    "    product_used = list()\n",
    "    for product_name, usage in zip(x.index, x):\n",
    "        if \"No\" in usage:\n",
    "            product_used.append(product_name)\n",
    "    transactions.append(product_used)\n",
    "\n",
    "encoder = TransactionEncoder()\n",
    "one_hot = encoder.fit(transactions).transform(transactions)\n",
    "one_hot_df = pd.DataFrame(one_hot,columns=encoder.columns_)\n",
    "\n",
    "apriori_result = apriori(one_hot_df, min_support = 1e-5, use_colnames = True, verbose = 1)\n",
    "print(apriori_result.head(20))"
   ]
  },
  {
   "cell_type": "markdown",
   "metadata": {},
   "source": [
    "### Churners Needs based"
   ]
  },
  {
   "cell_type": "code",
   "execution_count": 107,
   "metadata": {},
   "outputs": [],
   "source": [
    "churners = X.loc[df[df[\"Churn Label\"] == \"Yes\"].index]\n",
    "churners = churners[churners[\"Video Product\"] != 'No internet service']\n",
    "for col in columns:\n",
    "    # print(col)\n",
    "    # print(churners[col].unique())\n",
    "    # print()\n",
    "\n",
    "    churners[col] = churners[col].replace({\"Yes\": 1, \"No\":0})\n",
    "\n",
    "scaler = StandardScaler()\n",
    "churners_scaled = scaler.fit_transform(churners)\n",
    "\n",
    "k=2\n",
    "kmeans = KMeans(n_clusters=k, random_state=0, n_init=\"auto\")\n",
    "kmeans.fit(churners_scaled)\n",
    "\n",
    "result = churners.copy()\n",
    "result[\"label\"] = kmeans.labels_\n",
    "\n",
    "for col in columns:\n",
    "    result[col] = result[col].replace({1: \"Yes\", 0: \"No\"})"
   ]
  },
  {
   "cell_type": "code",
   "execution_count": 109,
   "metadata": {},
   "outputs": [
    {
     "name": "stdout",
     "output_type": "stream",
     "text": [
      "Processing 3 combinations | Sampling itemset size 32\n",
      "    support                        itemsets\n",
      "0  0.083939             (Education Product)\n",
      "1  0.085553                 (Games Product)\n",
      "2  0.217111                 (Music Product)\n",
      "3  0.307506                 (Video Product)\n",
      "4  0.026634  (Games Product, Music Product)\n",
      "5  0.083132  (Music Product, Video Product)\n"
     ]
    }
   ],
   "source": [
    "cluster_0 = result[result[\"label\"] == 0].drop(\"label\", axis=1).reset_index(drop=True)\n",
    "\n",
    "transactions = list()\n",
    "for i in range(len(cluster_0)):\n",
    "    x = cluster_0.iloc[i]\n",
    "\n",
    "    product_used = list()\n",
    "    for product_name, usage in zip(x.index, x):\n",
    "        if usage == \"Yes\":\n",
    "            product_used.append(product_name)\n",
    "    transactions.append(product_used)\n",
    "\n",
    "encoder = TransactionEncoder()\n",
    "one_hot = encoder.fit(transactions).transform(transactions)\n",
    "one_hot_df = pd.DataFrame(one_hot,columns=encoder.columns_)\n",
    "\n",
    "apriori_result = apriori(one_hot_df, min_support = 1e-5, use_colnames = True, verbose = 1)\n",
    "print(apriori_result.head(20))"
   ]
  },
  {
   "cell_type": "code",
   "execution_count": 110,
   "metadata": {},
   "outputs": [
    {
     "name": "stdout",
     "output_type": "stream",
     "text": [
      "Processing 4 combinations | Sampling itemset size 43\n",
      "     support                                           itemsets\n",
      "0   0.852998                                (Education Product)\n",
      "1   0.365571                                    (Games Product)\n",
      "2   0.491296                                    (Music Product)\n",
      "3   0.837524                                    (Video Product)\n",
      "4   0.218569                 (Games Product, Education Product)\n",
      "5   0.431335                 (Music Product, Education Product)\n",
      "6   0.690522                 (Video Product, Education Product)\n",
      "7   0.166344                     (Games Product, Music Product)\n",
      "8   0.292070                     (Games Product, Video Product)\n",
      "9   0.365571                     (Music Product, Video Product)\n",
      "10  0.106383  (Games Product, Education Product, Music Product)\n",
      "11  0.145068  (Games Product, Video Product, Education Product)\n",
      "12  0.305609  (Music Product, Video Product, Education Product)\n",
      "13  0.129594      (Games Product, Video Product, Music Product)\n",
      "14  0.069632  (Games Product, Video Product, Education Produ...\n"
     ]
    }
   ],
   "source": [
    "cluster_1 = result[result[\"label\"] == 1].drop(\"label\", axis=1).reset_index(drop=True)\n",
    "transactions = list()\n",
    "for i in range(len(cluster_1)):\n",
    "    x = cluster_1.iloc[i]\n",
    "\n",
    "    product_used = list()\n",
    "    for product_name, usage in zip(x.index, x):\n",
    "        if usage == \"Yes\":\n",
    "            product_used.append(product_name)\n",
    "    transactions.append(product_used)\n",
    "\n",
    "encoder = TransactionEncoder()\n",
    "one_hot = encoder.fit(transactions).transform(transactions)\n",
    "one_hot_df = pd.DataFrame(one_hot,columns=encoder.columns_)\n",
    "\n",
    "apriori_result = apriori(one_hot_df, min_support = 1e-5, use_colnames = True, verbose = 1)\n",
    "print(apriori_result.head(20))"
   ]
  }
 ],
 "metadata": {
  "kernelspec": {
   "display_name": "Python 3",
   "language": "python",
   "name": "python3"
  },
  "language_info": {
   "codemirror_mode": {
    "name": "ipython",
    "version": 3
   },
   "file_extension": ".py",
   "mimetype": "text/x-python",
   "name": "python",
   "nbconvert_exporter": "python",
   "pygments_lexer": "ipython3",
   "version": "3.10.7"
  }
 },
 "nbformat": 4,
 "nbformat_minor": 2
}
