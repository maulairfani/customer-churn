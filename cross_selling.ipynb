{
 "cells": [
  {
   "cell_type": "code",
   "execution_count": 5,
   "metadata": {},
   "outputs": [],
   "source": [
    "import pandas as pd\n",
    "from mlxtend.frequent_patterns import apriori, association_rules\n",
    "\n",
    "df = pd.read_excel(\"data/Telco_customer_churn_adapted_v2.xlsx\")\n",
    "products = [\"Games Product\", \"Music Product\", \"Education Product\", \"Video Product\", \"Call Center\", \"Use MyApp\"]\n",
    "X = df.copy()[products]"
   ]
  },
  {
   "cell_type": "code",
   "execution_count": 16,
   "metadata": {},
   "outputs": [],
   "source": [
    "transactions = list()\n",
    "for i in range(len(X)):\n",
    "    x = X.iloc[i]\n",
    "\n",
    "    product_used = list()\n",
    "    for product_name, usage in zip(x.index, x):\n",
    "        if usage == \"Yes\":\n",
    "            product_used.append(product_name)\n",
    "    transactions.append(product_used)"
   ]
  },
  {
   "cell_type": "code",
   "execution_count": 25,
   "metadata": {},
   "outputs": [],
   "source": [
    "from mlxtend.preprocessing import TransactionEncoder\n",
    "encoder = TransactionEncoder()\n",
    "one_hot = encoder.fit(transactions).transform(transactions)\n",
    "one_hot_df = pd.DataFrame(one_hot,columns=encoder.columns_)\n",
    "# one_hot_df = one_hot_df.replace({False: 0, True:1})"
   ]
  },
  {
   "cell_type": "code",
   "execution_count": 64,
   "metadata": {},
   "outputs": [
    {
     "name": "stdout",
     "output_type": "stream",
     "text": [
      "Processing 6 combinations | Sampling itemset size 65\n"
     ]
    }
   ],
   "source": [
    "apriori_result = apriori(one_hot_df, min_support = 1e-5, use_colnames = True, verbose = 1)"
   ]
  },
  {
   "cell_type": "code",
   "execution_count": 65,
   "metadata": {},
   "outputs": [],
   "source": [
    "df_ar = association_rules(apriori_result, min_threshold = 1e-5)"
   ]
  },
  {
   "cell_type": "code",
   "execution_count": 78,
   "metadata": {},
   "outputs": [
    {
     "data": {
      "text/plain": [
       "antecedents           (Games Product)\n",
       "consequents           (Music Product)\n",
       "antecedent support           0.286668\n",
       "consequent support           0.344881\n",
       "support                      0.159875\n",
       "confidence                   0.557702\n",
       "lift                         1.617083\n",
       "leverage                     0.061009\n",
       "conviction                    1.48117\n",
       "zhangs_metric                0.534957\n",
       "Name: 19, dtype: object"
      ]
     },
     "execution_count": 78,
     "metadata": {},
     "output_type": "execute_result"
    }
   ],
   "source": [
    "df_ar[df_ar[\"antecedents\"] == frozenset({'Games Product'})].sort_values(\"confidence\", ascending=False).iloc[0]"
   ]
  },
  {
   "cell_type": "code",
   "execution_count": 67,
   "metadata": {},
   "outputs": [
    {
     "data": {
      "text/plain": [
       "frozenset({'Call Center'})"
      ]
     },
     "execution_count": 67,
     "metadata": {},
     "output_type": "execute_result"
    }
   ],
   "source": []
  },
  {
   "cell_type": "code",
   "execution_count": null,
   "metadata": {},
   "outputs": [],
   "source": []
  }
 ],
 "metadata": {
  "kernelspec": {
   "display_name": "Python 3",
   "language": "python",
   "name": "python3"
  },
  "language_info": {
   "codemirror_mode": {
    "name": "ipython",
    "version": 3
   },
   "file_extension": ".py",
   "mimetype": "text/x-python",
   "name": "python",
   "nbconvert_exporter": "python",
   "pygments_lexer": "ipython3",
   "version": "3.10.7"
  }
 },
 "nbformat": 4,
 "nbformat_minor": 2
}
