{
 "cells": [
  {
   "cell_type": "code",
   "execution_count": 1,
   "metadata": {},
   "outputs": [],
   "source": [
    "import pandas as pd\n",
    "from mlxtend.frequent_patterns import apriori, association_rules\n",
    "\n",
    "df = pd.read_excel(\"data/Telco_customer_churn_adapted_v2.xlsx\")\n",
    "products = [\"Games Product\", \"Music Product\", \"Education Product\", \"Video Product\", \"Call Center\", \"Use MyApp\"]\n",
    "X = df.copy()[products]"
   ]
  },
  {
   "cell_type": "code",
   "execution_count": 2,
   "metadata": {},
   "outputs": [],
   "source": [
    "transactions = list()\n",
    "for i in range(len(X)):\n",
    "    x = X.iloc[i]\n",
    "\n",
    "    product_used = list()\n",
    "    for product_name, usage in zip(x.index, x):\n",
    "        if usage == \"Yes\":\n",
    "            product_used.append(product_name)\n",
    "    transactions.append(product_used)"
   ]
  },
  {
   "cell_type": "code",
   "execution_count": 3,
   "metadata": {},
   "outputs": [],
   "source": [
    "from mlxtend.preprocessing import TransactionEncoder\n",
    "encoder = TransactionEncoder()\n",
    "one_hot = encoder.fit(transactions).transform(transactions)\n",
    "one_hot_df = pd.DataFrame(one_hot,columns=encoder.columns_)\n",
    "# one_hot_df = one_hot_df.replace({False: 0, True:1})"
   ]
  },
  {
   "cell_type": "code",
   "execution_count": 4,
   "metadata": {},
   "outputs": [
    {
     "name": "stdout",
     "output_type": "stream",
     "text": [
      "Processing 60 combinations | Sampling itemset size 3\n"
     ]
    }
   ],
   "source": [
    "apriori_result = apriori(one_hot_df, min_support = 0.15, use_colnames = True, verbose = 1)"
   ]
  },
  {
   "cell_type": "code",
   "execution_count": 5,
   "metadata": {},
   "outputs": [],
   "source": [
    "df_ar = association_rules(apriori_result, min_threshold = 1e-5)"
   ]
  },
  {
   "cell_type": "code",
   "execution_count": 14,
   "metadata": {},
   "outputs": [
    {
     "data": {
      "text/plain": [
       "antecedents    (Education Product)\n",
       "consequents          (Call Center)\n",
       "support                    0.17166\n",
       "confidence                0.499174\n",
       "lift                      1.720002\n",
       "Name: 0, dtype: object"
      ]
     },
     "execution_count": 14,
     "metadata": {},
     "output_type": "execute_result"
    }
   ],
   "source": [
    "df_ar.iloc[0][[\"antecedents\", \"consequents\", \"support\", \"confidence\", \"lift\"]]"
   ]
  },
  {
   "cell_type": "code",
   "execution_count": 6,
   "metadata": {},
   "outputs": [],
   "source": [
    "products = [\"Games Product\", \"Music Product\", \"Education Product\", \"Video Product\", \"Call Center\", \"Use MyApp\"]\n",
    "min_support = 0.15\n",
    "min_confidence = 0.65"
   ]
  },
  {
   "cell_type": "code",
   "execution_count": 7,
   "metadata": {},
   "outputs": [],
   "source": [
    "import pandas as pd\n",
    "from mlxtend.frequent_patterns import apriori, association_rules\n",
    "from mlxtend.preprocessing import TransactionEncoder\n",
    "\n",
    "def index(products, min_support, min_confidence):\n",
    "    df = pd.read_excel(\"data/Telco_customer_churn_adapted_v2.xlsx\")\n",
    "    products = [\"Games Product\", \"Music Product\", \"Education Product\", \"Video Product\", \"Call Center\", \"Use MyApp\"]\n",
    "    X = df.copy()[products]\n",
    "\n",
    "    transactions = list()\n",
    "    for i in range(len(X)):\n",
    "        x = X.iloc[i]\n",
    "\n",
    "        product_used = list()\n",
    "        for product_name, usage in zip(x.index, x):\n",
    "            if usage == \"Yes\":\n",
    "                product_used.append(product_name)\n",
    "        transactions.append(product_used)\n",
    "\n",
    "    encoder = TransactionEncoder()\n",
    "    one_hot = encoder.fit(transactions).transform(transactions)\n",
    "    one_hot_df = pd.DataFrame(one_hot,columns=encoder.columns_)\n",
    "\n",
    "    apriori_result = apriori(one_hot_df, min_support = min_support, use_colnames = True, verbose = 1)\n",
    "    df_ar = association_rules(apriori_result, min_threshold = min_confidence)\n",
    "\n",
    "    return df_ar"
   ]
  },
  {
   "cell_type": "code",
   "execution_count": null,
   "metadata": {},
   "outputs": [],
   "source": []
  }
 ],
 "metadata": {
  "kernelspec": {
   "display_name": "Python 3",
   "language": "python",
   "name": "python3"
  },
  "language_info": {
   "codemirror_mode": {
    "name": "ipython",
    "version": 3
   },
   "file_extension": ".py",
   "mimetype": "text/x-python",
   "name": "python",
   "nbconvert_exporter": "python",
   "pygments_lexer": "ipython3",
   "version": "3.10.7"
  }
 },
 "nbformat": 4,
 "nbformat_minor": 2
}
