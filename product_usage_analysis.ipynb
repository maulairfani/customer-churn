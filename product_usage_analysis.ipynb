{
 "cells": [
  {
   "cell_type": "code",
   "execution_count": 2,
   "metadata": {},
   "outputs": [],
   "source": [
    "import pandas as pd\n",
    "import plotly.express as px\n",
    "from scipy.stats import chi2_contingency\n",
    "import numpy as np"
   ]
  },
  {
   "cell_type": "code",
   "execution_count": 56,
   "metadata": {},
   "outputs": [
    {
     "data": {
      "text/html": [
       "<div>\n",
       "<style scoped>\n",
       "    .dataframe tbody tr th:only-of-type {\n",
       "        vertical-align: middle;\n",
       "    }\n",
       "\n",
       "    .dataframe tbody tr th {\n",
       "        vertical-align: top;\n",
       "    }\n",
       "\n",
       "    .dataframe thead th {\n",
       "        text-align: right;\n",
       "    }\n",
       "</style>\n",
       "<table border=\"1\" class=\"dataframe\">\n",
       "  <thead>\n",
       "    <tr style=\"text-align: right;\">\n",
       "      <th></th>\n",
       "      <th>Customer ID</th>\n",
       "      <th>Tenure Months</th>\n",
       "      <th>Location</th>\n",
       "      <th>Device Class</th>\n",
       "      <th>Games Product</th>\n",
       "      <th>Music Product</th>\n",
       "      <th>Education Product</th>\n",
       "      <th>Call Center</th>\n",
       "      <th>Video Product</th>\n",
       "      <th>Use MyApp</th>\n",
       "      <th>Payment Method</th>\n",
       "      <th>Monthly Purchase (Thou. IDR)</th>\n",
       "      <th>Churn Label</th>\n",
       "      <th>Longitude</th>\n",
       "      <th>Latitude</th>\n",
       "      <th>CLTV (Predicted Thou. IDR)</th>\n",
       "    </tr>\n",
       "  </thead>\n",
       "  <tbody>\n",
       "    <tr>\n",
       "      <th>0</th>\n",
       "      <td>0</td>\n",
       "      <td>2</td>\n",
       "      <td>Jakarta</td>\n",
       "      <td>Mid End</td>\n",
       "      <td>Yes</td>\n",
       "      <td>Yes</td>\n",
       "      <td>No</td>\n",
       "      <td>No</td>\n",
       "      <td>No</td>\n",
       "      <td>No</td>\n",
       "      <td>Digital Wallet</td>\n",
       "      <td>70.005</td>\n",
       "      <td>Yes</td>\n",
       "      <td>106.816666</td>\n",
       "      <td>-6.2</td>\n",
       "      <td>4210.7</td>\n",
       "    </tr>\n",
       "    <tr>\n",
       "      <th>1</th>\n",
       "      <td>1</td>\n",
       "      <td>2</td>\n",
       "      <td>Jakarta</td>\n",
       "      <td>High End</td>\n",
       "      <td>No</td>\n",
       "      <td>No</td>\n",
       "      <td>No</td>\n",
       "      <td>No</td>\n",
       "      <td>No</td>\n",
       "      <td>No</td>\n",
       "      <td>Pulsa</td>\n",
       "      <td>91.910</td>\n",
       "      <td>Yes</td>\n",
       "      <td>106.816666</td>\n",
       "      <td>-6.2</td>\n",
       "      <td>3511.3</td>\n",
       "    </tr>\n",
       "    <tr>\n",
       "      <th>2</th>\n",
       "      <td>2</td>\n",
       "      <td>8</td>\n",
       "      <td>Jakarta</td>\n",
       "      <td>High End</td>\n",
       "      <td>No</td>\n",
       "      <td>No</td>\n",
       "      <td>Yes</td>\n",
       "      <td>No</td>\n",
       "      <td>Yes</td>\n",
       "      <td>Yes</td>\n",
       "      <td>Pulsa</td>\n",
       "      <td>129.545</td>\n",
       "      <td>Yes</td>\n",
       "      <td>106.816666</td>\n",
       "      <td>-6.2</td>\n",
       "      <td>6983.6</td>\n",
       "    </tr>\n",
       "    <tr>\n",
       "      <th>3</th>\n",
       "      <td>3</td>\n",
       "      <td>28</td>\n",
       "      <td>Jakarta</td>\n",
       "      <td>High End</td>\n",
       "      <td>No</td>\n",
       "      <td>No</td>\n",
       "      <td>Yes</td>\n",
       "      <td>Yes</td>\n",
       "      <td>Yes</td>\n",
       "      <td>Yes</td>\n",
       "      <td>Pulsa</td>\n",
       "      <td>136.240</td>\n",
       "      <td>Yes</td>\n",
       "      <td>106.816666</td>\n",
       "      <td>-6.2</td>\n",
       "      <td>6503.9</td>\n",
       "    </tr>\n",
       "    <tr>\n",
       "      <th>4</th>\n",
       "      <td>4</td>\n",
       "      <td>49</td>\n",
       "      <td>Jakarta</td>\n",
       "      <td>High End</td>\n",
       "      <td>No</td>\n",
       "      <td>Yes</td>\n",
       "      <td>Yes</td>\n",
       "      <td>No</td>\n",
       "      <td>Yes</td>\n",
       "      <td>Yes</td>\n",
       "      <td>Debit</td>\n",
       "      <td>134.810</td>\n",
       "      <td>Yes</td>\n",
       "      <td>106.816666</td>\n",
       "      <td>-6.2</td>\n",
       "      <td>6942.0</td>\n",
       "    </tr>\n",
       "  </tbody>\n",
       "</table>\n",
       "</div>"
      ],
      "text/plain": [
       "   Customer ID  Tenure Months Location Device Class Games Product  \\\n",
       "0            0              2  Jakarta      Mid End           Yes   \n",
       "1            1              2  Jakarta     High End            No   \n",
       "2            2              8  Jakarta     High End            No   \n",
       "3            3             28  Jakarta     High End            No   \n",
       "4            4             49  Jakarta     High End            No   \n",
       "\n",
       "  Music Product Education Product Call Center Video Product Use MyApp  \\\n",
       "0           Yes                No          No            No        No   \n",
       "1            No                No          No            No        No   \n",
       "2            No               Yes          No           Yes       Yes   \n",
       "3            No               Yes         Yes           Yes       Yes   \n",
       "4           Yes               Yes          No           Yes       Yes   \n",
       "\n",
       "   Payment Method  Monthly Purchase (Thou. IDR) Churn Label   Longitude  \\\n",
       "0  Digital Wallet                        70.005         Yes  106.816666   \n",
       "1           Pulsa                        91.910         Yes  106.816666   \n",
       "2           Pulsa                       129.545         Yes  106.816666   \n",
       "3           Pulsa                       136.240         Yes  106.816666   \n",
       "4           Debit                       134.810         Yes  106.816666   \n",
       "\n",
       "   Latitude  CLTV (Predicted Thou. IDR)  \n",
       "0      -6.2                      4210.7  \n",
       "1      -6.2                      3511.3  \n",
       "2      -6.2                      6983.6  \n",
       "3      -6.2                      6503.9  \n",
       "4      -6.2                      6942.0  "
      ]
     },
     "execution_count": 56,
     "metadata": {},
     "output_type": "execute_result"
    }
   ],
   "source": [
    "df = pd.read_excel(\"data/Telco_customer_churn_adapted_v2.xlsx\")\n",
    "df.head()"
   ]
  },
  {
   "cell_type": "code",
   "execution_count": 90,
   "metadata": {},
   "outputs": [],
   "source": [
    "products = [\"Games Product\", \"Music Product\", \"Education Product\", \"Video Product\", \"Call Center\", \"Use MyApp\", \"Device Class\"]"
   ]
  },
  {
   "cell_type": "code",
   "execution_count": null,
   "metadata": {},
   "outputs": [],
   "source": [
    "idx = 1 \n",
    "\n",
    "# Menghitung \"Count\" untuk setiap kategori\n",
    "temp = df[[products[idx], \"Churn Label\", \"Customer ID\"]].groupby([products[idx], \"Churn Label\"]).count().reset_index()\n",
    "temp.columns = [products[idx], \"Churn Label\", \"Count\"]\n",
    "\n",
    "# Menghitung total \"Count\" untuk setiap kategori produk\n",
    "total_count = temp.groupby(products[idx])[\"Count\"].sum()\n",
    "temp[\"Percentage\"] = (temp[\"Count\"] / temp[products[idx]].map(total_count)) * 100\n",
    "\n",
    "# Plot dengan sumbu y \"Count\"\n",
    "fig_count = px.bar(temp, x=products[idx], y=\"Count\", color=\"Churn Label\", barmode=\"group\",\n",
    "                   title=f\"Jumlah Customer Churn dan Tidak Churn berdasarkan {products[idx]}\")\n",
    "fig_count.show()\n",
    "\n",
    "# Plot dengan sumbu y \"Percentage\"\n",
    "fig_percentage = px.bar(temp, x=products[idx], y=\"Percentage\", color=\"Churn Label\", barmode=\"group\",\n",
    "                        title=f\"Persentase Customer Churn dan Tidak Churn berdasarkan {products[idx]}\")\n",
    "fig_percentage.show()\n",
    "\n",
    "observed = pd.crosstab(df[products[idx]], df[\"Churn Label\"])\n",
    "chi2, p, dof, expected = chi2_contingency(observed)\n",
    "\n",
    "if p < 0.05:\n",
    "    print(f\"Terdapat hubungan yang signifikan antara {products[idx]} dan Churn.\")\n",
    "else:\n",
    "    print(f\"Tidak terdapat hubungan yang signifikan antara {products[idx]} dan Churn.\")\n"
   ]
  },
  {
   "cell_type": "code",
   "execution_count": 82,
   "metadata": {},
   "outputs": [],
   "source": [
    "import numpy as np\n",
    "import pandas as pd\n",
    "from scipy.stats import chi2_contingency\n",
    "\n",
    "def cramers_v(cross_tabs):\n",
    "    \"\"\"\n",
    "    Prints the degrees of freedom, effect size thresholds, Cramer's V value, and interpretation.\n",
    "    \n",
    "    Args:\n",
    "        cross_tabs: A crosstab dataframe.\n",
    "    \"\"\"\n",
    "    \n",
    "    # Effect size data frame for Cramer's V function\n",
    "    data = np.array([[1, .1, .3, .5],\n",
    "       [2, .07, .21, .35],\n",
    "       [3, .06, .17, .29],\n",
    "       [4, .05, .15, .25],\n",
    "       [5, .04, .13, .22]])\n",
    "    sizes = pd.DataFrame(data, columns=['Degrees of Freedom', 'Small Effect', 'Medium Effect', 'Large Effect']) \n",
    "    \n",
    "    # Getting the chi-squared stat\n",
    "    chi2 = chi2_contingency(cross_tabs)[0]\n",
    "    # Calculating the total number of observations\n",
    "    n = cross_tabs.sum().sum()\n",
    "    # Getting the degrees of freedom\n",
    "    dof = min(cross_tabs.shape) - 1\n",
    "    # Calculating Cramer's V\n",
    "    v = np.sqrt(chi2 / (n * dof))\n",
    "    \n",
    "    # Interpreting the effect size\n",
    "    effect_size = \"Small Effect\"\n",
    "    for i, row in sizes.iterrows():\n",
    "        print(row)\n",
    "        if dof == row[\"Degrees of Freedom\"]:\n",
    "            if v > row[\"Small Effect\"] and v <= row[\"Medium Effect\"]:\n",
    "                effect_size = \"Small Effect\"\n",
    "            elif v > row[\"Medium Effect\"] and v <= row[\"Large Effect\"]:\n",
    "                effect_size = \"Medium Effect\"\n",
    "            else:\n",
    "                effect_size = \"Large Effect\"\n",
    "            break\n",
    "\n",
    "    # Printing results\n",
    "    print(f'V = {v}')\n",
    "    print(f'Cramer\\'s V Degrees of Freedom = {dof}')\n",
    "    print(f'Effect Size Interpretation: {effect_size}')\n",
    "    # print(f'\\nEffect Size Thresholds\\n{sizes}\\n')\n"
   ]
  },
  {
   "cell_type": "code",
   "execution_count": null,
   "metadata": {},
   "outputs": [],
   "source": [
    "observed = pd.crosstab(df[\"Games Product\"], df[\"Churn Label\"])\n",
    "cramers_v(observed)"
   ]
  },
  {
   "cell_type": "code",
   "execution_count": null,
   "metadata": {},
   "outputs": [],
   "source": [
    "# Effect size data frame for Cramer's V function\n",
    "data = np.array([[1, .1, .3, .5],\n",
    "    [2, .07, .21, .35],\n",
    "    [3, .06, .17, .29],\n",
    "    [4, .05, .15, .25],\n",
    "    [5, .04, .13, .22]])\n",
    "sizes = pd.DataFrame(data, columns=['Degrees of Freedom', 'Small Effect', 'Medium Effect', 'Large Effect']) \n",
    "sizes"
   ]
  },
  {
   "cell_type": "code",
   "execution_count": null,
   "metadata": {},
   "outputs": [],
   "source": [
    "for i in range(len(products)):\n",
    "    print(products[i])\n",
    "    observed = pd.crosstab(df[products[i]], df[\"Churn Label\"])\n",
    "    cramers_v(observed)\n",
    "    print()"
   ]
  },
  {
   "cell_type": "code",
   "execution_count": 93,
   "metadata": {},
   "outputs": [],
   "source": [
    "def products_figure(product, percentage, dependent=\"Churn Label\"):\n",
    "    # Menghitung \"Count\" untuk setiap kategori\n",
    "    temp = df[[product, \"Churn Label\", \"Customer ID\"]].groupby([product, \"Churn Label\"]).count().reset_index()\n",
    "    temp.columns = [product, \"Churn Label\", \"Count\"]\n",
    "\n",
    "    # Menghitung total \"Count\" untuk setiap kategori produk\n",
    "    total_count = temp.groupby(product)[\"Count\"].sum()\n",
    "    temp[\"Percentage\"] = (temp[\"Count\"] / temp[product].map(total_count)) * 100\n",
    "\n",
    "    # Plot dengan sumbu y \"Count\"\n",
    "    y = \"Percentage\" if percentage else \"Count\"\n",
    "    fig = px.bar(temp, x=product, y=y, color=\"Churn Label\", barmode=\"group\",\n",
    "                 title=f\"Jumlah Customer Churn dan Tidak Churn berdasarkan {product}\")\n",
    "\n",
    "    return fig"
   ]
  },
  {
   "cell_type": "code",
   "execution_count": 104,
   "metadata": {},
   "outputs": [],
   "source": [
    "def chi2_test(product):\n",
    "    observed = pd.crosstab(df[product], df[\"Churn Label\"])\n",
    "    chi2, p, dof, expected = chi2_contingency(observed)\n",
    "\n",
    "    if p < 0.05:\n",
    "        conclusion = f\"Terdapat hubungan yang signifikan antara {product} dan Churn.\"\n",
    "    else:\n",
    "        conclusion = f\"Tidak terdapat hubungan yang signifikan antara {product} dan Churn.\" \n",
    "\n",
    "    output = pd.DataFrame({\n",
    "        \"chi2\" : [round(chi2, 2)],\n",
    "        \"p-value\" : [round(p, 3)],\n",
    "        \"degrees of freedom\" : [dof],\n",
    "        \"conclusion\" : [conclusion]\n",
    "    })\n",
    "\n",
    "    return output"
   ]
  },
  {
   "cell_type": "code",
   "execution_count": 110,
   "metadata": {},
   "outputs": [
    {
     "data": {
      "text/html": [
       "<div>\n",
       "<style scoped>\n",
       "    .dataframe tbody tr th:only-of-type {\n",
       "        vertical-align: middle;\n",
       "    }\n",
       "\n",
       "    .dataframe tbody tr th {\n",
       "        vertical-align: top;\n",
       "    }\n",
       "\n",
       "    .dataframe thead th {\n",
       "        text-align: right;\n",
       "    }\n",
       "</style>\n",
       "<table border=\"1\" class=\"dataframe\">\n",
       "  <thead>\n",
       "    <tr style=\"text-align: right;\">\n",
       "      <th></th>\n",
       "      <th>V</th>\n",
       "      <th>Cramer's V Degrees of Freedom</th>\n",
       "      <th>Effect Size</th>\n",
       "    </tr>\n",
       "  </thead>\n",
       "  <tbody>\n",
       "    <tr>\n",
       "      <th>0</th>\n",
       "      <td>0.347</td>\n",
       "      <td>1</td>\n",
       "      <td>Medium Effect</td>\n",
       "    </tr>\n",
       "  </tbody>\n",
       "</table>\n",
       "</div>"
      ],
      "text/plain": [
       "       V  Cramer's V Degrees of Freedom    Effect Size\n",
       "0  0.347                              1  Medium Effect"
      ]
     },
     "execution_count": 110,
     "metadata": {},
     "output_type": "execute_result"
    }
   ],
   "source": [
    "import numpy as np\n",
    "import pandas as pd\n",
    "from scipy.stats import chi2_contingency\n",
    "\n",
    "def cramers_v(product):\n",
    "    cross_tabs = pd.crosstab(df[product], df[\"Churn Label\"])\n",
    "\n",
    "    chi2 = chi2_contingency(cross_tabs)[0]\n",
    "    n = cross_tabs.sum().sum()\n",
    "    dof = min(cross_tabs.shape) - 1\n",
    "    v = np.sqrt(chi2 / (n * dof))\n",
    "    \n",
    "    # Interpreting the effect size\n",
    "    effect_size = \"Small Effect\"\n",
    "    for i, row in sizes.iterrows():\n",
    "        if dof == row[\"Degrees of Freedom\"]:\n",
    "            if v > row[\"Small Effect\"] and v <= row[\"Medium Effect\"]:\n",
    "                effect_size = \"Small Effect\"\n",
    "            elif v > row[\"Medium Effect\"] and v <= row[\"Large Effect\"]:\n",
    "                effect_size = \"Medium Effect\"\n",
    "            else:\n",
    "                effect_size = \"Large Effect\"\n",
    "            break\n",
    "\n",
    "    output = pd.DataFrame({\n",
    "        \"V\" : [round(v, 3)],\n",
    "        \"Cramer's V Degrees of Freedom\" : [dof],\n",
    "        \"Effect Size\" : [effect_size]\n",
    "    })\n",
    "    return output\n",
    "\n",
    "\n",
    "cramers_v(products[0])"
   ]
  },
  {
   "cell_type": "code",
   "execution_count": 112,
   "metadata": {},
   "outputs": [
    {
     "name": "stdout",
     "output_type": "stream",
     "text": [
      "            Games Product  CLTV (Predicted Thou. IDR)\n",
      "0                     Yes                      4210.7\n",
      "1                      No                      3511.3\n",
      "2                      No                      6983.6\n",
      "3                      No                      6503.9\n",
      "4                      No                      6942.0\n",
      "...                   ...                         ...\n",
      "7038  No internet service                      6897.8\n",
      "7039                  Yes                      2782.0\n",
      "7040                   No                      7228.0\n",
      "7041                  Yes                      3630.9\n",
      "7042                  Yes                      6626.1\n",
      "\n",
      "[7043 rows x 2 columns]\n"
     ]
    }
   ],
   "source": [
    "print(df[[\"Games Product\", \"CLTV (Predicted Thou. IDR)\"]])"
   ]
  },
  {
   "cell_type": "code",
   "execution_count": 11,
   "metadata": {},
   "outputs": [
    {
     "data": {
      "text/html": [
       "<div>\n",
       "<style scoped>\n",
       "    .dataframe tbody tr th:only-of-type {\n",
       "        vertical-align: middle;\n",
       "    }\n",
       "\n",
       "    .dataframe tbody tr th {\n",
       "        vertical-align: top;\n",
       "    }\n",
       "\n",
       "    .dataframe thead th {\n",
       "        text-align: right;\n",
       "    }\n",
       "</style>\n",
       "<table border=\"1\" class=\"dataframe\">\n",
       "  <thead>\n",
       "    <tr style=\"text-align: right;\">\n",
       "      <th></th>\n",
       "      <th>CLTV (Predicted Thou. IDR)</th>\n",
       "    </tr>\n",
       "    <tr>\n",
       "      <th>Games Product</th>\n",
       "      <th></th>\n",
       "    </tr>\n",
       "  </thead>\n",
       "  <tbody>\n",
       "    <tr>\n",
       "      <th>No</th>\n",
       "      <td>3498</td>\n",
       "    </tr>\n",
       "    <tr>\n",
       "      <th>No internet service</th>\n",
       "      <td>1526</td>\n",
       "    </tr>\n",
       "    <tr>\n",
       "      <th>Yes</th>\n",
       "      <td>2019</td>\n",
       "    </tr>\n",
       "  </tbody>\n",
       "</table>\n",
       "</div>"
      ],
      "text/plain": [
       "                     CLTV (Predicted Thou. IDR)\n",
       "Games Product                                  \n",
       "No                                         3498\n",
       "No internet service                        1526\n",
       "Yes                                        2019"
      ]
     },
     "execution_count": 11,
     "metadata": {},
     "output_type": "execute_result"
    }
   ],
   "source": [
    "temp = df[[\"Games Product\", \"CLTV (Predicted Thou. IDR)\"]]\n",
    "temp.groupby(\"Games Product\").count()"
   ]
  },
  {
   "cell_type": "code",
   "execution_count": null,
   "metadata": {},
   "outputs": [],
   "source": [
    "temp = df[[\"Games Product\", \"CLTV (Predicted Thou. IDR)\"]]\n",
    "\n",
    "import scipy.stats as stats\n",
    "# stats f_oneway functions takes the groups as input and returns ANOVA F and p value\n",
    "fvalue, pvalue = stats.f_oneway()\n",
    "print(fvalue, pvalue)"
   ]
  },
  {
   "cell_type": "code",
   "execution_count": 6,
   "metadata": {},
   "outputs": [
    {
     "data": {
      "text/html": [
       "<div>\n",
       "<style scoped>\n",
       "    .dataframe tbody tr th:only-of-type {\n",
       "        vertical-align: middle;\n",
       "    }\n",
       "\n",
       "    .dataframe tbody tr th {\n",
       "        vertical-align: top;\n",
       "    }\n",
       "\n",
       "    .dataframe thead th {\n",
       "        text-align: right;\n",
       "    }\n",
       "</style>\n",
       "<table border=\"1\" class=\"dataframe\">\n",
       "  <thead>\n",
       "    <tr style=\"text-align: right;\">\n",
       "      <th></th>\n",
       "      <th>index</th>\n",
       "      <th>treatments</th>\n",
       "      <th>value</th>\n",
       "    </tr>\n",
       "  </thead>\n",
       "  <tbody>\n",
       "    <tr>\n",
       "      <th>0</th>\n",
       "      <td>0</td>\n",
       "      <td>A</td>\n",
       "      <td>25</td>\n",
       "    </tr>\n",
       "    <tr>\n",
       "      <th>1</th>\n",
       "      <td>1</td>\n",
       "      <td>A</td>\n",
       "      <td>30</td>\n",
       "    </tr>\n",
       "    <tr>\n",
       "      <th>2</th>\n",
       "      <td>2</td>\n",
       "      <td>A</td>\n",
       "      <td>28</td>\n",
       "    </tr>\n",
       "    <tr>\n",
       "      <th>3</th>\n",
       "      <td>3</td>\n",
       "      <td>A</td>\n",
       "      <td>36</td>\n",
       "    </tr>\n",
       "    <tr>\n",
       "      <th>4</th>\n",
       "      <td>4</td>\n",
       "      <td>A</td>\n",
       "      <td>29</td>\n",
       "    </tr>\n",
       "    <tr>\n",
       "      <th>5</th>\n",
       "      <td>0</td>\n",
       "      <td>B</td>\n",
       "      <td>45</td>\n",
       "    </tr>\n",
       "    <tr>\n",
       "      <th>6</th>\n",
       "      <td>1</td>\n",
       "      <td>B</td>\n",
       "      <td>55</td>\n",
       "    </tr>\n",
       "    <tr>\n",
       "      <th>7</th>\n",
       "      <td>2</td>\n",
       "      <td>B</td>\n",
       "      <td>29</td>\n",
       "    </tr>\n",
       "    <tr>\n",
       "      <th>8</th>\n",
       "      <td>3</td>\n",
       "      <td>B</td>\n",
       "      <td>56</td>\n",
       "    </tr>\n",
       "    <tr>\n",
       "      <th>9</th>\n",
       "      <td>4</td>\n",
       "      <td>B</td>\n",
       "      <td>40</td>\n",
       "    </tr>\n",
       "    <tr>\n",
       "      <th>10</th>\n",
       "      <td>0</td>\n",
       "      <td>C</td>\n",
       "      <td>30</td>\n",
       "    </tr>\n",
       "    <tr>\n",
       "      <th>11</th>\n",
       "      <td>1</td>\n",
       "      <td>C</td>\n",
       "      <td>29</td>\n",
       "    </tr>\n",
       "    <tr>\n",
       "      <th>12</th>\n",
       "      <td>2</td>\n",
       "      <td>C</td>\n",
       "      <td>33</td>\n",
       "    </tr>\n",
       "    <tr>\n",
       "      <th>13</th>\n",
       "      <td>3</td>\n",
       "      <td>C</td>\n",
       "      <td>37</td>\n",
       "    </tr>\n",
       "    <tr>\n",
       "      <th>14</th>\n",
       "      <td>4</td>\n",
       "      <td>C</td>\n",
       "      <td>27</td>\n",
       "    </tr>\n",
       "    <tr>\n",
       "      <th>15</th>\n",
       "      <td>0</td>\n",
       "      <td>D</td>\n",
       "      <td>54</td>\n",
       "    </tr>\n",
       "    <tr>\n",
       "      <th>16</th>\n",
       "      <td>1</td>\n",
       "      <td>D</td>\n",
       "      <td>60</td>\n",
       "    </tr>\n",
       "    <tr>\n",
       "      <th>17</th>\n",
       "      <td>2</td>\n",
       "      <td>D</td>\n",
       "      <td>51</td>\n",
       "    </tr>\n",
       "    <tr>\n",
       "      <th>18</th>\n",
       "      <td>3</td>\n",
       "      <td>D</td>\n",
       "      <td>62</td>\n",
       "    </tr>\n",
       "    <tr>\n",
       "      <th>19</th>\n",
       "      <td>4</td>\n",
       "      <td>D</td>\n",
       "      <td>73</td>\n",
       "    </tr>\n",
       "  </tbody>\n",
       "</table>\n",
       "</div>"
      ],
      "text/plain": [
       "    index treatments  value\n",
       "0       0          A     25\n",
       "1       1          A     30\n",
       "2       2          A     28\n",
       "3       3          A     36\n",
       "4       4          A     29\n",
       "5       0          B     45\n",
       "6       1          B     55\n",
       "7       2          B     29\n",
       "8       3          B     56\n",
       "9       4          B     40\n",
       "10      0          C     30\n",
       "11      1          C     29\n",
       "12      2          C     33\n",
       "13      3          C     37\n",
       "14      4          C     27\n",
       "15      0          D     54\n",
       "16      1          D     60\n",
       "17      2          D     51\n",
       "18      3          D     62\n",
       "19      4          D     73"
      ]
     },
     "execution_count": 6,
     "metadata": {},
     "output_type": "execute_result"
    }
   ],
   "source": [
    "import pandas as pd\n",
    "# load data file\n",
    "df = pd.read_csv(\"https://reneshbedre.github.io/assets/posts/anova/onewayanova.txt\", sep=\"\\t\")\n",
    "# reshape the d dataframe suitable for statsmodels package \n",
    "df_melt = pd.melt(df.reset_index(), id_vars=['index'], value_vars=['A', 'B', 'C', 'D'])\n",
    "# replace column names\n",
    "df_melt.columns = ['index', 'treatments', 'value']\n",
    "\n",
    "df_melt"
   ]
  },
  {
   "cell_type": "code",
   "execution_count": null,
   "metadata": {},
   "outputs": [],
   "source": [
    "# generate a boxplot to see the data distribution by treatments. Using boxplot, we can \n",
    "# easily detect the differences between different treatments\n",
    "import matplotlib.pyplot as plt\n",
    "import seaborn as sns\n",
    "ax = sns.boxplot(x='treatments', y='value', data=df_melt, color='#99c2a2')\n",
    "ax = sns.swarmplot(x=\"treatments\", y=\"value\", data=df_melt, color='#7d0013')\n",
    "plt.show()"
   ]
  },
  {
   "cell_type": "code",
   "execution_count": 12,
   "metadata": {},
   "outputs": [
    {
     "name": "stdout",
     "output_type": "stream",
     "text": [
      "F-statistic: 71.11764705882366\n",
      "p-value: 2.2181191966453334e-07\n",
      "             df  sum_sq     mean_sq          F        PR(>F)\n",
      "C(labels)   2.0  1128.4  564.200000  71.117647  2.218119e-07\n",
      "Residual   12.0    95.2    7.933333        NaN           NaN\n"
     ]
    }
   ],
   "source": [
    "import numpy as np\n",
    "import scipy.stats as stats\n",
    "import statsmodels.api as sm\n",
    "from statsmodels.formula.api import ols\n",
    "\n",
    "# Buat beberapa contoh data untuk tiga kelompok\n",
    "group1 = [68, 72, 65, 74, 70]\n",
    "group2 = [58, 63, 60, 62, 59]\n",
    "group3 = [78, 83, 80, 85, 82]\n",
    "\n",
    "# Gabungkan data ke dalam satu array\n",
    "data = np.concatenate([group1, group2, group3])\n",
    "\n",
    "# Buat label kelompok yang sesuai\n",
    "labels = ['Group 1'] * len(group1) + ['Group 2'] * len(group2) + ['Group 3'] * len(group3)\n",
    "\n",
    "# Lakukan One-Way ANOVA\n",
    "f_statistic, p_value = stats.f_oneway(group1, group2, group3)\n",
    "\n",
    "print(\"F-statistic:\", f_statistic)\n",
    "print(\"p-value:\", p_value)\n",
    "\n",
    "# Lakukan juga menggunakan statsmodels untuk mendapatkan lebih banyak informasi\n",
    "df = sm.stats.anova_lm(ols('data ~ C(labels)', data={'data': data, 'labels': labels}).fit())\n",
    "print(df)"
   ]
  },
  {
   "cell_type": "code",
   "execution_count": 58,
   "metadata": {},
   "outputs": [
    {
     "name": "stdout",
     "output_type": "stream",
     "text": [
      "F-statistic: 43.6351187623681\n",
      "p-value: 1.4655657594444916e-19\n"
     ]
    }
   ],
   "source": [
    "product = \"Video Product\"\n",
    "cltv = \"CLTV (Predicted Thou. IDR)\"\n",
    "\n",
    "groups = dict()\n",
    "labels = list()\n",
    "for key in df[product].unique():\n",
    "    groups[key] = df[df[product] == key][cltv].values\n",
    "    labels.extend([key]*len(groups[key]))\n",
    "data = np.concatenate(list(groups.values()))\n",
    "\n",
    "f_statistic, p_value = stats.f_oneway(*groups.values())\n",
    "\n",
    "print(\"F-statistic:\", f_statistic)\n",
    "print(\"p-value:\", p_value)"
   ]
  },
  {
   "cell_type": "code",
   "execution_count": 59,
   "metadata": {},
   "outputs": [
    {
     "name": "stdout",
     "output_type": "stream",
     "text": [
      "              Multiple Comparison of Means - Tukey HSD, FWER=0.05               \n",
      "================================================================================\n",
      "       group1              group2       meandiff p-adj   lower    upper   reject\n",
      "--------------------------------------------------------------------------------\n",
      "                 No No internet service 144.6842 0.0082  30.7265  258.642   True\n",
      "                 No                 Yes 382.5217    0.0 286.0091 479.0343   True\n",
      "No internet service                 Yes 237.8375    0.0 123.1193 352.5557   True\n",
      "--------------------------------------------------------------------------------\n"
     ]
    }
   ],
   "source": [
    "# Buat model ANOVA dengan statsmodels\n",
    "model = ols('data ~ C(labels)', data={'data': data, 'labels': labels}).fit()\n",
    "\n",
    "# Lakukan uji post hoc Tukey's HSD\n",
    "posthoc = sm.stats.multicomp.MultiComparison(data, labels)\n",
    "result = posthoc.tukeyhsd()\n",
    "print(result)"
   ]
  },
  {
   "cell_type": "code",
   "execution_count": null,
   "metadata": {},
   "outputs": [],
   "source": [
    "import statsmodels.api as sm\n",
    "import matplotlib.pyplot as plt\n",
    "# res.anova_std_residuals are standardized residuals obtained from ANOVA (check above)\n",
    "sm.qqplot(result.anova_std_residuals, line='45')\n",
    "plt.xlabel(\"Theoretical Quantiles\")\n",
    "plt.ylabel(\"Standardized Residuals\")\n",
    "plt.show()\n",
    "\n",
    "# histogram\n",
    "plt.hist(result.anova_model_out.resid, bins='auto', histtype='bar', ec='k') \n",
    "plt.xlabel(\"Residuals\")\n",
    "plt.ylabel('Frequency')\n",
    "plt.show()"
   ]
  },
  {
   "cell_type": "code",
   "execution_count": 60,
   "metadata": {},
   "outputs": [
    {
     "name": "stdout",
     "output_type": "stream",
     "text": [
      "0.9652363657951355 4.1254641574068055e-38\n"
     ]
    },
    {
     "name": "stderr",
     "output_type": "stream",
     "text": [
      "c:\\Users\\maula\\AppData\\Local\\Programs\\Python\\Python310\\lib\\site-packages\\scipy\\stats\\_morestats.py:1800: UserWarning: p-value may not be accurate for N > 5000.\n",
      "  warnings.warn(\"p-value may not be accurate for N > 5000.\")\n"
     ]
    }
   ],
   "source": [
    "w, pvalue = stats.shapiro(model.resid)\n",
    "print(w, pvalue)"
   ]
  },
  {
   "cell_type": "code",
   "execution_count": 65,
   "metadata": {},
   "outputs": [
    {
     "name": "stdout",
     "output_type": "stream",
     "text": [
      "2.8509059684147857 0.24039954134456898\n"
     ]
    }
   ],
   "source": [
    "w, pvalue = stats.bartlett(*groups.values())\n",
    "print(w, pvalue)"
   ]
  },
  {
   "cell_type": "code",
   "execution_count": 67,
   "metadata": {},
   "outputs": [
    {
     "data": {
      "image/png": "[encoded data removed]",
      "text/plain": [
       "<Figure size 432x288 with 1 Axes>"
      ]
     },
     "metadata": {
      "needs_background": "light"
     },
     "output_type": "display_data"
    }
   ],
   "source": [
    "import pandas as pd\n",
    "# load data file\n",
    "df = pd.read_csv(\"https://reneshbedre.github.io/assets/posts/anova/onewayanova.txt\", sep=\"\\t\")\n",
    "# reshape the d dataframe suitable for statsmodels package \n",
    "df_melt = pd.melt(df.reset_index(), id_vars=['index'], value_vars=['A', 'B', 'C', 'D'])\n",
    "# replace column names\n",
    "df_melt.columns = ['index', 'treatments', 'value']\n",
    "\n",
    "# generate a boxplot to see the data distribution by treatments. Using boxplot, we can \n",
    "# easily detect the differences between different treatments\n",
    "import matplotlib.pyplot as plt\n",
    "import seaborn as sns\n",
    "ax = sns.boxplot(x='treatments', y='value', data=df_melt, color='#99c2a2')\n",
    "ax = sns.swarmplot(x=\"treatments\", y=\"value\", data=df_melt, color='#7d0013')\n",
    "plt.show()"
   ]
  },
  {
   "cell_type": "code",
   "execution_count": 69,
   "metadata": {},
   "outputs": [
    {
     "name": "stdout",
     "output_type": "stream",
     "text": [
      "17.492810457516338 2.6392411462109217e-05\n"
     ]
    }
   ],
   "source": [
    "import scipy.stats as stats\n",
    "# stats f_oneway functions takes the groups as input and returns ANOVA F and p value\n",
    "fvalue, pvalue = stats.f_oneway(df['A'], df['B'], df['C'], df['D'])\n",
    "print(fvalue, pvalue)\n",
    "# 17.492810457516338 2.639241146210922e-05"
   ]
  },
  {
   "cell_type": "code",
   "execution_count": 70,
   "metadata": {},
   "outputs": [
    {
     "data": {
      "text/html": [
       "<div>\n",
       "<style scoped>\n",
       "    .dataframe tbody tr th:only-of-type {\n",
       "        vertical-align: middle;\n",
       "    }\n",
       "\n",
       "    .dataframe tbody tr th {\n",
       "        vertical-align: top;\n",
       "    }\n",
       "\n",
       "    .dataframe thead th {\n",
       "        text-align: right;\n",
       "    }\n",
       "</style>\n",
       "<table border=\"1\" class=\"dataframe\">\n",
       "  <thead>\n",
       "    <tr style=\"text-align: right;\">\n",
       "      <th></th>\n",
       "      <th>sum_sq</th>\n",
       "      <th>df</th>\n",
       "      <th>F</th>\n",
       "      <th>PR(&gt;F)</th>\n",
       "    </tr>\n",
       "  </thead>\n",
       "  <tbody>\n",
       "    <tr>\n",
       "      <th>C(treatments)</th>\n",
       "      <td>3010.95</td>\n",
       "      <td>3.0</td>\n",
       "      <td>17.49281</td>\n",
       "      <td>0.000026</td>\n",
       "    </tr>\n",
       "    <tr>\n",
       "      <th>Residual</th>\n",
       "      <td>918.00</td>\n",
       "      <td>16.0</td>\n",
       "      <td>NaN</td>\n",
       "      <td>NaN</td>\n",
       "    </tr>\n",
       "  </tbody>\n",
       "</table>\n",
       "</div>"
      ],
      "text/plain": [
       "                sum_sq    df         F    PR(>F)\n",
       "C(treatments)  3010.95   3.0  17.49281  0.000026\n",
       "Residual        918.00  16.0       NaN       NaN"
      ]
     },
     "execution_count": 70,
     "metadata": {},
     "output_type": "execute_result"
    }
   ],
   "source": [
    "# get ANOVA table as R like output\n",
    "import statsmodels.api as sm\n",
    "from statsmodels.formula.api import ols\n",
    "\n",
    "# Ordinary Least Squares (OLS) model\n",
    "model = ols('value ~ C(treatments)', data=df_melt).fit()\n",
    "anova_table = sm.stats.anova_lm(model, typ=2)\n",
    "anova_table"
   ]
  },
  {
   "cell_type": "code",
   "execution_count": 71,
   "metadata": {},
   "outputs": [
    {
     "data": {
      "text/html": [
       "<div>\n",
       "<style scoped>\n",
       "    .dataframe tbody tr th:only-of-type {\n",
       "        vertical-align: middle;\n",
       "    }\n",
       "\n",
       "    .dataframe tbody tr th {\n",
       "        vertical-align: top;\n",
       "    }\n",
       "\n",
       "    .dataframe thead th {\n",
       "        text-align: right;\n",
       "    }\n",
       "</style>\n",
       "<table border=\"1\" class=\"dataframe\">\n",
       "  <thead>\n",
       "    <tr style=\"text-align: right;\">\n",
       "      <th></th>\n",
       "      <th>df</th>\n",
       "      <th>sum_sq</th>\n",
       "      <th>mean_sq</th>\n",
       "      <th>F</th>\n",
       "      <th>PR(&gt;F)</th>\n",
       "    </tr>\n",
       "  </thead>\n",
       "  <tbody>\n",
       "    <tr>\n",
       "      <th>C(treatments)</th>\n",
       "      <td>3.0</td>\n",
       "      <td>3010.95</td>\n",
       "      <td>1003.650</td>\n",
       "      <td>17.49281</td>\n",
       "      <td>0.000026</td>\n",
       "    </tr>\n",
       "    <tr>\n",
       "      <th>Residual</th>\n",
       "      <td>16.0</td>\n",
       "      <td>918.00</td>\n",
       "      <td>57.375</td>\n",
       "      <td>NaN</td>\n",
       "      <td>NaN</td>\n",
       "    </tr>\n",
       "  </tbody>\n",
       "</table>\n",
       "</div>"
      ],
      "text/plain": [
       "                 df   sum_sq   mean_sq         F    PR(>F)\n",
       "C(treatments)   3.0  3010.95  1003.650  17.49281  0.000026\n",
       "Residual       16.0   918.00    57.375       NaN       NaN"
      ]
     },
     "execution_count": 71,
     "metadata": {},
     "output_type": "execute_result"
    }
   ],
   "source": [
    "# ANOVA table using bioinfokit v1.0.3 or later (it uses wrapper script for anova_lm)\n",
    "from bioinfokit.analys import stat\n",
    "res = stat()\n",
    "res.anova_stat(df=df_melt, res_var='value', anova_model='value ~ C(treatments)')\n",
    "res.anova_summary\n",
    "\n",
    "# note: if the data is balanced (equal sample size for each group), Type 1, 2, and 3 sums of squares\n",
    "# (typ parameter) will produce similar results."
   ]
  },
  {
   "cell_type": "code",
   "execution_count": 72,
   "metadata": {},
   "outputs": [
    {
     "name": "stderr",
     "output_type": "stream",
     "text": [
      "c:\\Users\\maula\\AppData\\Local\\Programs\\Python\\Python310\\lib\\site-packages\\bioinfokit\\analys.py:421: FutureWarning: The default value of numeric_only in DataFrame.mean is deprecated. In a future version, it will default to False. In addition, specifying 'numeric_only=None' is deprecated. Select only valid columns or specify the value of numeric_only to silence this warning.\n",
      "  mult_group[ele] = df[df[xfac_var] == ele].mean().loc[res_var]\n",
      "c:\\Users\\maula\\AppData\\Local\\Programs\\Python\\Python310\\lib\\site-packages\\bioinfokit\\analys.py:421: FutureWarning: The default value of numeric_only in DataFrame.mean is deprecated. In a future version, it will default to False. In addition, specifying 'numeric_only=None' is deprecated. Select only valid columns or specify the value of numeric_only to silence this warning.\n",
      "  mult_group[ele] = df[df[xfac_var] == ele].mean().loc[res_var]\n",
      "c:\\Users\\maula\\AppData\\Local\\Programs\\Python\\Python310\\lib\\site-packages\\bioinfokit\\analys.py:421: FutureWarning: The default value of numeric_only in DataFrame.mean is deprecated. In a future version, it will default to False. In addition, specifying 'numeric_only=None' is deprecated. Select only valid columns or specify the value of numeric_only to silence this warning.\n",
      "  mult_group[ele] = df[df[xfac_var] == ele].mean().loc[res_var]\n",
      "c:\\Users\\maula\\AppData\\Local\\Programs\\Python\\Python310\\lib\\site-packages\\bioinfokit\\analys.py:421: FutureWarning: The default value of numeric_only in DataFrame.mean is deprecated. In a future version, it will default to False. In addition, specifying 'numeric_only=None' is deprecated. Select only valid columns or specify the value of numeric_only to silence this warning.\n",
      "  mult_group[ele] = df[df[xfac_var] == ele].mean().loc[res_var]\n"
     ]
    },
    {
     "data": {
      "text/html": [
       "<div>\n",
       "<style scoped>\n",
       "    .dataframe tbody tr th:only-of-type {\n",
       "        vertical-align: middle;\n",
       "    }\n",
       "\n",
       "    .dataframe tbody tr th {\n",
       "        vertical-align: top;\n",
       "    }\n",
       "\n",
       "    .dataframe thead th {\n",
       "        text-align: right;\n",
       "    }\n",
       "</style>\n",
       "<table border=\"1\" class=\"dataframe\">\n",
       "  <thead>\n",
       "    <tr style=\"text-align: right;\">\n",
       "      <th></th>\n",
       "      <th>group1</th>\n",
       "      <th>group2</th>\n",
       "      <th>Diff</th>\n",
       "      <th>Lower</th>\n",
       "      <th>Upper</th>\n",
       "      <th>q-value</th>\n",
       "      <th>p-value</th>\n",
       "    </tr>\n",
       "  </thead>\n",
       "  <tbody>\n",
       "    <tr>\n",
       "      <th>0</th>\n",
       "      <td>A</td>\n",
       "      <td>B</td>\n",
       "      <td>15.4</td>\n",
       "      <td>1.692871</td>\n",
       "      <td>29.107129</td>\n",
       "      <td>4.546156</td>\n",
       "      <td>0.025070</td>\n",
       "    </tr>\n",
       "    <tr>\n",
       "      <th>1</th>\n",
       "      <td>A</td>\n",
       "      <td>C</td>\n",
       "      <td>1.6</td>\n",
       "      <td>-12.107129</td>\n",
       "      <td>15.307129</td>\n",
       "      <td>0.472328</td>\n",
       "      <td>0.900000</td>\n",
       "    </tr>\n",
       "    <tr>\n",
       "      <th>2</th>\n",
       "      <td>A</td>\n",
       "      <td>D</td>\n",
       "      <td>30.4</td>\n",
       "      <td>16.692871</td>\n",
       "      <td>44.107129</td>\n",
       "      <td>8.974231</td>\n",
       "      <td>0.001000</td>\n",
       "    </tr>\n",
       "    <tr>\n",
       "      <th>3</th>\n",
       "      <td>B</td>\n",
       "      <td>C</td>\n",
       "      <td>13.8</td>\n",
       "      <td>0.092871</td>\n",
       "      <td>27.507129</td>\n",
       "      <td>4.073828</td>\n",
       "      <td>0.048178</td>\n",
       "    </tr>\n",
       "    <tr>\n",
       "      <th>4</th>\n",
       "      <td>B</td>\n",
       "      <td>D</td>\n",
       "      <td>15.0</td>\n",
       "      <td>1.292871</td>\n",
       "      <td>28.707129</td>\n",
       "      <td>4.428074</td>\n",
       "      <td>0.029578</td>\n",
       "    </tr>\n",
       "    <tr>\n",
       "      <th>5</th>\n",
       "      <td>C</td>\n",
       "      <td>D</td>\n",
       "      <td>28.8</td>\n",
       "      <td>15.092871</td>\n",
       "      <td>42.507129</td>\n",
       "      <td>8.501903</td>\n",
       "      <td>0.001000</td>\n",
       "    </tr>\n",
       "  </tbody>\n",
       "</table>\n",
       "</div>"
      ],
      "text/plain": [
       "  group1 group2  Diff      Lower      Upper   q-value   p-value\n",
       "0      A      B  15.4   1.692871  29.107129  4.546156  0.025070\n",
       "1      A      C   1.6 -12.107129  15.307129  0.472328  0.900000\n",
       "2      A      D  30.4  16.692871  44.107129  8.974231  0.001000\n",
       "3      B      C  13.8   0.092871  27.507129  4.073828  0.048178\n",
       "4      B      D  15.0   1.292871  28.707129  4.428074  0.029578\n",
       "5      C      D  28.8  15.092871  42.507129  8.501903  0.001000"
      ]
     },
     "execution_count": 72,
     "metadata": {},
     "output_type": "execute_result"
    }
   ],
   "source": [
    "# we will use bioinfokit (v1.0.3 or later) for performing tukey HSD test\n",
    "# check documentation here https://github.com/reneshbedre/bioinfokit\n",
    "from bioinfokit.analys import stat\n",
    "# perform multiple pairwise comparison (Tukey's HSD)\n",
    "# unequal sample size data, tukey_hsd uses Tukey-Kramer test\n",
    "res = stat()\n",
    "res.tukey_hsd(df=df_melt, res_var='value', xfac_var='treatments', anova_model='value ~ C(treatments)')\n",
    "res.tukey_summary"
   ]
  },
  {
   "cell_type": "code",
   "execution_count": 73,
   "metadata": {},
   "outputs": [
    {
     "data": {
      "image/png": "[encoded data removed]",
      "text/plain": [
       "<Figure size 432x288 with 1 Axes>"
      ]
     },
     "metadata": {
      "needs_background": "light"
     },
     "output_type": "display_data"
    },
    {
     "data": {
      "image/png": "[encoded data removed]",
      "text/plain": [
       "<Figure size 432x288 with 1 Axes>"
      ]
     },
     "metadata": {
      "needs_background": "light"
     },
     "output_type": "display_data"
    }
   ],
   "source": [
    "import statsmodels.api as sm\n",
    "import matplotlib.pyplot as plt\n",
    "# res.anova_std_residuals are standardized residuals obtained from ANOVA (check above)\n",
    "sm.qqplot(res.anova_std_residuals, line='45')\n",
    "plt.xlabel(\"Theoretical Quantiles\")\n",
    "plt.ylabel(\"Standardized Residuals\")\n",
    "plt.show()\n",
    "\n",
    "# histogram\n",
    "plt.hist(res.anova_model_out.resid, bins='auto', histtype='bar', ec='k') \n",
    "plt.xlabel(\"Residuals\")\n",
    "plt.ylabel('Frequency')\n",
    "plt.show()"
   ]
  },
  {
   "cell_type": "code",
   "execution_count": 74,
   "metadata": {},
   "outputs": [
    {
     "name": "stdout",
     "output_type": "stream",
     "text": [
      "0.9685018062591553 0.7229723930358887\n"
     ]
    }
   ],
   "source": [
    "import scipy.stats as stats\n",
    "w, pvalue = stats.shapiro(model.resid)\n",
    "print(w, pvalue)"
   ]
  },
  {
   "cell_type": "code",
   "execution_count": 75,
   "metadata": {},
   "outputs": [
    {
     "data": {
      "text/html": [
       "<div>\n",
       "<style scoped>\n",
       "    .dataframe tbody tr th:only-of-type {\n",
       "        vertical-align: middle;\n",
       "    }\n",
       "\n",
       "    .dataframe tbody tr th {\n",
       "        vertical-align: top;\n",
       "    }\n",
       "\n",
       "    .dataframe thead th {\n",
       "        text-align: right;\n",
       "    }\n",
       "</style>\n",
       "<table border=\"1\" class=\"dataframe\">\n",
       "  <thead>\n",
       "    <tr style=\"text-align: right;\">\n",
       "      <th></th>\n",
       "      <th>Parameter</th>\n",
       "      <th>Value</th>\n",
       "    </tr>\n",
       "  </thead>\n",
       "  <tbody>\n",
       "    <tr>\n",
       "      <th>0</th>\n",
       "      <td>Test statistics (W)</td>\n",
       "      <td>1.9220</td>\n",
       "    </tr>\n",
       "    <tr>\n",
       "      <th>1</th>\n",
       "      <td>Degrees of freedom (Df)</td>\n",
       "      <td>3.0000</td>\n",
       "    </tr>\n",
       "    <tr>\n",
       "      <th>2</th>\n",
       "      <td>p value</td>\n",
       "      <td>0.1667</td>\n",
       "    </tr>\n",
       "  </tbody>\n",
       "</table>\n",
       "</div>"
      ],
      "text/plain": [
       "                 Parameter   Value\n",
       "0      Test statistics (W)  1.9220\n",
       "1  Degrees of freedom (Df)  3.0000\n",
       "2                  p value  0.1667"
      ]
     },
     "execution_count": 75,
     "metadata": {},
     "output_type": "execute_result"
    }
   ],
   "source": [
    "from bioinfokit.analys import stat \n",
    "res = stat()\n",
    "res.levene(df=df_melt, res_var='value', xfac_var='treatments')\n",
    "res.levene_summary"
   ]
  },
  {
   "cell_type": "code",
   "execution_count": 77,
   "metadata": {},
   "outputs": [
    {
     "name": "stdout",
     "output_type": "stream",
     "text": [
      "Levene Statistic: 1.9219593192195938\n",
      "p-value: 0.16673281219949274\n"
     ]
    }
   ],
   "source": [
    "import scipy.stats as stats\n",
    "\n",
    "# Contoh data untuk tiga kelompok\n",
    "group1 = [68, 72, 65, 74, 70]\n",
    "group2 = [58, 63, 60, 62, 59]\n",
    "group3 = [78, 83, 80, 85, 82]\n",
    "\n",
    "# Melakukan uji Levene\n",
    "statistic, p_value = stats.levene(df['A'], df['B'], df['C'], df['D'])\n",
    "\n",
    "print(\"Levene Statistic:\", statistic)\n",
    "print(\"p-value:\", p_value)\n"
   ]
  },
  {
   "cell_type": "code",
   "execution_count": 79,
   "metadata": {},
   "outputs": [
    {
     "data": {
      "text/plain": [
       "Index(['A', 'B', 'C', 'D'], dtype='object')"
      ]
     },
     "execution_count": 79,
     "metadata": {},
     "output_type": "execute_result"
    }
   ],
   "source": [
    "df.columns"
   ]
  },
  {
   "cell_type": "code",
   "execution_count": 92,
   "metadata": {},
   "outputs": [
    {
     "name": "stdout",
     "output_type": "stream",
     "text": [
      "F-statistic: 73.63094690961177\n",
      "p-value: 2.250841766984456e-32\n"
     ]
    }
   ],
   "source": [
    "df = pd.read_excel(\"data/Telco_customer_churn_adapted_v2.xlsx\")\n",
    "\n",
    "product = \"Games Product\"\n",
    "cltv = \"CLTV (Predicted Thou. IDR)\"\n",
    "\n",
    "groups = dict()\n",
    "labels = list()\n",
    "for key in df[product].unique():\n",
    "    groups[key] = df[df[product] == key][cltv].values\n",
    "    labels.extend([key]*len(groups[key]))\n",
    "data = np.concatenate(list(groups.values()))\n",
    "\n",
    "# ANOVA one-way\n",
    "f_statistic, p_value = stats.f_oneway(*groups.values())\n",
    "\n",
    "print(\"F-statistic:\", f_statistic)\n",
    "print(\"p-value:\", p_value)"
   ]
  },
  {
   "cell_type": "code",
   "execution_count": 93,
   "metadata": {},
   "outputs": [
    {
     "name": "stdout",
     "output_type": "stream",
     "text": [
      "              Multiple Comparison of Means - Tukey HSD, FWER=0.05               \n",
      "================================================================================\n",
      "       group1              group2       meandiff p-adj   lower    upper   reject\n",
      "--------------------------------------------------------------------------------\n",
      "                 No No internet service   145.34 0.0053  35.8569 254.8231   True\n",
      "                 No                 Yes 514.6628    0.0 414.9196 614.4059   True\n",
      "No internet service                 Yes 369.3228    0.0 248.2707 490.3748   True\n",
      "--------------------------------------------------------------------------------\n"
     ]
    }
   ],
   "source": [
    "# Buat model ANOVA dengan statsmodels\n",
    "model = ols('data ~ C(labels)', data={'data': data, 'labels': labels}).fit()\n",
    "\n",
    "# Lakukan uji post hoc Tukey's HSD\n",
    "posthoc = sm.stats.multicomp.MultiComparison(data, labels)\n",
    "result = posthoc.tukeyhsd()\n",
    "print(result)"
   ]
  },
  {
   "cell_type": "code",
   "execution_count": 112,
   "metadata": {},
   "outputs": [
    {
     "name": "stdout",
     "output_type": "stream",
     "text": [
      "Shapiro-Wilk Normality Test:\n",
      "W-statistic: 0.9208890199661255\n",
      "p-value: 0.0\n",
      "\n",
      "Levene's Test for Homoskedasticity:\n",
      "Levene Statistic: 1040.4697718669986\n",
      "p-value: 0.0\n",
      "\n",
      "Kruskal-Wallis Test:\n",
      "Kruskal Statistic: 4587.7000906772855\n",
      "p-value: 0.0\n"
     ]
    },
    {
     "name": "stderr",
     "output_type": "stream",
     "text": [
      "c:\\Users\\maula\\AppData\\Local\\Programs\\Python\\Python310\\lib\\site-packages\\scipy\\stats\\_morestats.py:1800: UserWarning: p-value may not be accurate for N > 5000.\n",
      "  warnings.warn(\"p-value may not be accurate for N > 5000.\")\n"
     ]
    }
   ],
   "source": [
    "import numpy as np\n",
    "import scipy.stats as stats\n",
    "import statsmodels.api as sm\n",
    "from statsmodels.formula.api import ols\n",
    "from statsmodels.stats.multicomp import MultiComparison\n",
    "\n",
    "df = pd.read_excel(\"data/Telco_customer_churn_adapted_v2.xlsx\")\n",
    "\n",
    "product = \"Video Product\"\n",
    "cltv = \"CLTV (Predicted Thou. IDR)\"\n",
    "cltv = \"Monthly Purchase (Thou. IDR)\"\n",
    "\n",
    "groups = dict()\n",
    "labels = list()\n",
    "for key in df[product].unique():\n",
    "    groups[key] = df[df[product] == key][cltv].values\n",
    "    labels.extend([key]*len(groups[key]))\n",
    "data = np.concatenate(list(groups.values()))\n",
    "\n",
    "# Uji asumsi normalitas\n",
    "normality_test = stats.shapiro(data)\n",
    "w, p_value = normality_test\n",
    "\n",
    "print(\"Shapiro-Wilk Normality Test:\")\n",
    "print(\"W-statistic:\", w)\n",
    "print(\"p-value:\", p_value)\n",
    "\n",
    "# Uji homoskedastisitas (Levene's test)\n",
    "homoskedasticity_test = stats.levene(*groups.values())\n",
    "levene_statistic, levene_p_value = homoskedasticity_test\n",
    "\n",
    "print(\"\\nLevene's Test for Homoskedasticity:\")\n",
    "print(\"Levene Statistic:\", levene_statistic)\n",
    "print(\"p-value:\", levene_p_value)\n",
    "\n",
    "# Memeriksa asumsi dan memilih uji statistik yang sesuai\n",
    "if p_value > 0.05 and levene_p_value > 0.05:\n",
    "    # Asumsi normalitas dan homoskedastisitas terpenuhi, gunakan One-Way ANOVA\n",
    "    f_statistic, anova_p_value = stats.f_oneway(*groups.values())\n",
    "    print(\"\\nOne-Way ANOVA:\")\n",
    "    print(\"F-statistic:\", f_statistic)\n",
    "    print(\"p-value:\", anova_p_value)\n",
    "\n",
    "    # Lakukan uji post hoc jika diperlukan (misalnya, Tukey's HSD)\n",
    "    if anova_p_value < 0.05:\n",
    "        posthoc = sm.stats.multicomp.MultiComparison(data, labels)\n",
    "        result = posthoc.tukeyhsd()\n",
    "        print(\"\\nTukey's HSD Post Hoc Test:\")\n",
    "        print(result)\n",
    "    else:\n",
    "        print(\"Tidak ada perluan uji post hoc.\")\n",
    "else:\n",
    "    # Salah satu asumsi tidak terpenuhi, gunakan Kruskal-Wallis\n",
    "    kruskal_statistic, kruskal_p_value = stats.kruskal(*groups.values())\n",
    "    print(\"\\nKruskal-Wallis Test:\")\n",
    "    print(\"Kruskal Statistic:\", kruskal_statistic)\n",
    "    print(\"p-value:\", kruskal_p_value)"
   ]
  },
  {
   "cell_type": "code",
   "execution_count": 115,
   "metadata": {},
   "outputs": [
    {
     "data": {
      "image/png": "[encoded data removed]",
      "text/plain": [
       "<Figure size 432x288 with 1 Axes>"
      ]
     },
     "metadata": {
      "needs_background": "light"
     },
     "output_type": "display_data"
    }
   ],
   "source": [
    "import statsmodels.api as sm\n",
    "import pylab\n",
    "\n",
    "# Data contoh\n",
    "# data = np.random.normal(0, 1, 1000)\n",
    "\n",
    "# Buat plot probabilitas normal\n",
    "sm.qqplot(groups[\"No\"], line='s')\n",
    "pylab.show()"
   ]
  },
  {
   "cell_type": "code",
   "execution_count": 129,
   "metadata": {},
   "outputs": [
    {
     "name": "stderr",
     "output_type": "stream",
     "text": [
      "c:\\Users\\maula\\AppData\\Local\\Programs\\Python\\Python310\\lib\\site-packages\\scipy\\stats\\_morestats.py:1800: UserWarning: p-value may not be accurate for N > 5000.\n",
      "  warnings.warn(\"p-value may not be accurate for N > 5000.\")\n"
     ]
    },
    {
     "name": "stdout",
     "output_type": "stream",
     "text": [
      "Shapiro-Wilk Normality Test:\n",
      "W-statistic: 0.9208890199661255\n",
      "p-value: 0.0\n",
      "\n",
      "Levene's Test for Homoskedasticity:\n",
      "Levene Statistic: 1040.4697718669986\n",
      "p-value: 0.0\n",
      "\n",
      "Kruskal-Wallis Test:\n",
      "Kruskal Statistic: 4587.7000906772855\n",
      "p-value: 0.0\n",
      "\n",
      "Dunn Post Hoc Test (after Kruskal-Wallis):\n",
      "     1    2    3\n",
      "1  1.0  0.0  0.0\n",
      "2  0.0  1.0  0.0\n",
      "3  0.0  0.0  1.0\n"
     ]
    }
   ],
   "source": [
    "import numpy as np\n",
    "import pandas as pd\n",
    "import scipy.stats as stats\n",
    "import scikit_posthocs as sp\n",
    "import statsmodels.api as sm\n",
    "\n",
    "df = pd.read_excel(\"data/Telco_customer_churn_adapted_v2.xlsx\")\n",
    "\n",
    "product = \"Video Product\"\n",
    "cltv = \"Monthly Purchase (Thou. IDR)\"\n",
    "\n",
    "groups = dict()\n",
    "labels = list()\n",
    "for key in df[product].unique():\n",
    "    groups[key] = df[df[product] == key][cltv].values\n",
    "    labels.extend([key]*len(groups[key]))\n",
    "data = np.concatenate(list(groups.values()))\n",
    "\n",
    "# Uji asumsi normalitas\n",
    "normality_test = stats.shapiro(data)\n",
    "w, p_value = normality_test\n",
    "\n",
    "print(\"Shapiro-Wilk Normality Test:\")\n",
    "print(\"W-statistic:\", w)\n",
    "print(\"p-value:\", p_value)\n",
    "\n",
    "# Uji homoskedastisitas (Levene's test)\n",
    "homoskedasticity_test = stats.levene(*groups.values())\n",
    "levene_statistic, levene_p_value = homoskedasticity_test\n",
    "\n",
    "print(\"\\nLevene's Test for Homoskedasticity:\")\n",
    "print(\"Levene Statistic:\", levene_statistic)\n",
    "print(\"p-value:\", levene_p_value)\n",
    "\n",
    "# Memeriksa asumsi dan memilih uji statistik yang sesuai\n",
    "if p_value > 0.05 and levene_p_value > 0.05:\n",
    "    # Asumsi normalitas dan homoskedastisitas terpenuhi, gunakan One-Way ANOVA\n",
    "    f_statistic, anova_p_value = stats.f_oneway(*groups.values())\n",
    "    print(\"\\nOne-Way ANOVA:\")\n",
    "    print(\"F-statistic:\", f_statistic)\n",
    "    print(\"p-value:\", anova_p_value)\n",
    "\n",
    "    # Lakukan uji post hoc jika diperlukan (misalnya, Tukey's HSD)\n",
    "    if anova_p_value < 0.05:\n",
    "        posthoc = sm.stats.multicomp.MultiComparison(data, labels)\n",
    "        result = posthoc.tukeyhsd()\n",
    "        print(\"\\nTukey's HSD Post Hoc Test:\")\n",
    "        print(result)\n",
    "    else:\n",
    "        print(\"Tidak ada perluan uji post hoc.\")\n",
    "else:\n",
    "    # Salah satu asumsi tidak terpenuhi, gunakan Kruskal-Wallis\n",
    "    kruskal_statistic, kruskal_p_value = stats.kruskal(*groups.values())\n",
    "    print(\"\\nKruskal-Wallis Test:\")\n",
    "    print(\"Kruskal Statistic:\", kruskal_statistic)\n",
    "    print(\"p-value:\", kruskal_p_value)\n",
    "\n",
    "    # Lakukan uji post hoc Dunn setelah Kruskal-Wallis\n",
    "    if kruskal_p_value < 0.05:\n",
    "        posthoc_res = sp.posthoc_dunn(list(groups.values()), p_adjust = 'holm')\n",
    "        print(\"\\nDunn Post Hoc Test (after Kruskal-Wallis):\")\n",
    "        print(round(posthoc_res, 5))\n"
   ]
  },
  {
   "cell_type": "code",
   "execution_count": 153,
   "metadata": {},
   "outputs": [],
   "source": [
    "product = \"Video Product\"\n",
    "cltv = \"Monthly Purchase (Thou. IDR)\"\n",
    "\n",
    "def check_for_anova_assumptions(product):\n",
    "    import warnings\n",
    "    warnings.filterwarnings(\"ignore\")\n",
    "\n",
    "    groups = dict()\n",
    "    labels = list()\n",
    "    for key in df[product].unique():\n",
    "        groups[key] = df[df[product] == key][cltv].values\n",
    "        labels.extend([key]*len(groups[key]))\n",
    "    data = np.concatenate(list(groups.values()))\n",
    "\n",
    "    # Normality test\n",
    "    normality_test = stats.shapiro(data)\n",
    "    # Uji homoskedastisitas (Levene's test)\n",
    "    homoskedasticity_test = stats.levene(*groups.values())\n",
    "\n",
    "    return pd.DataFrame({\n",
    "        \"Normality\" : [\"❌\" if normality_test.pvalue < 0.05 else \"✅\"],\n",
    "        \"Homoscedasticity\" : [\"❌\" if homoskedasticity_test.pvalue < 0.05 else \"✅\"],\n",
    "    })"
   ]
  },
  {
   "cell_type": "code",
   "execution_count": 154,
   "metadata": {},
   "outputs": [
    {
     "data": {
      "text/plain": [
       "array(['❌', '❌'], dtype=object)"
      ]
     },
     "execution_count": 154,
     "metadata": {},
     "output_type": "execute_result"
    }
   ],
   "source": [
    "assumptions = check_for_anova_assumptions(\"Video Product\")\n",
    "assumptions.iloc[0].values "
   ]
  },
  {
   "cell_type": "code",
   "execution_count": 155,
   "metadata": {},
   "outputs": [],
   "source": [
    "def anova(product):\n",
    "    groups = dict()\n",
    "    labels = list()\n",
    "    for key in df[product].unique():\n",
    "        groups[key] = df[df[product] == key][cltv].values\n",
    "        labels.extend([key]*len(groups[key]))\n",
    "    data = np.concatenate(list(groups.values()))\n",
    "\n",
    "    # Asumsi normalitas dan homoskedastisitas terpenuhi, gunakan One-Way ANOVA\n",
    "    f_statistic, anova_p_value = stats.f_oneway(*groups.values())\n",
    "\n",
    "    # Lakukan uji post hoc jika diperlukan (misalnya, Tukey's HSD)\n",
    "    if anova_p_value < 0.05:\n",
    "        posthoc = sm.stats.multicomp.MultiComparison(data, labels)\n",
    "        posthoc_result = posthoc.tukeyhsd()\n",
    "    else:\n",
    "        posthoc_result = None\n",
    "\n",
    "    return f_statistic, anova_p_value, posthoc_result"
   ]
  },
  {
   "cell_type": "code",
   "execution_count": 158,
   "metadata": {},
   "outputs": [],
   "source": [
    "def kruskal_wallis(product):\n",
    "    groups = dict()\n",
    "    labels = list()\n",
    "    for key in df[product].unique():\n",
    "        groups[key] = df[df[product] == key][cltv].values\n",
    "        labels.extend([key]*len(groups[key]))\n",
    "    data = np.concatenate(list(groups.values()))\n",
    "    kruskal_statistic, kruskal_p_value = stats.kruskal(*groups.values())\n",
    "\n",
    "    return kruskal_statistic, kruskal_p_value, None"
   ]
  },
  {
   "cell_type": "code",
   "execution_count": null,
   "metadata": {},
   "outputs": [],
   "source": [
    "def cltv_hypothesis_testing(product):\n",
    "    assumptions = check_for_anova_assumptions(product)\n",
    "\n",
    "    if \"❌\" in assumptions:\n",
    "        statistic, pvalue, posthoc_result = kruskal_wallis(product)\n",
    "    else:\n",
    "        statistic, pvalue, posthoc_result = anova(product)\n",
    "\n",
    "    return statistic, pvalue, posthoc_result"
   ]
  }
 ],
 "metadata": {
  "kernelspec": {
   "display_name": "Python 3",
   "language": "python",
   "name": "python3"
  },
  "language_info": {
   "codemirror_mode": {
    "name": "ipython",
    "version": 3
   },
   "file_extension": ".py",
   "mimetype": "text/x-python",
   "name": "python",
   "nbconvert_exporter": "python",
   "pygments_lexer": "ipython3",
   "version": "3.10.7"
  }
 },
 "nbformat": 4,
 "nbformat_minor": 2
}
