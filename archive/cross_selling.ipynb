{
 "cells": [
  {
   "cell_type": "code",
   "execution_count": 44,
   "metadata": {},
   "outputs": [],
   "source": [
    "import pandas as pd\n",
    "from mlxtend.frequent_patterns import apriori, association_rules\n",
    "\n",
    "df = pd.read_excel(\"data/Telco_customer_churn_adapted_v2.xlsx\")\n",
    "products = [\"Games Product\", \"Music Product\", \"Education Product\", \"Video Product\", \"Call Center\", \"Use MyApp\"]\n",
    "X = df.copy()[products]"
   ]
  },
  {
   "cell_type": "code",
   "execution_count": 45,
   "metadata": {},
   "outputs": [],
   "source": [
    "transactions = list()\n",
    "for i in range(len(X)):\n",
    "    x = X.iloc[i]\n",
    "\n",
    "    product_used = list()\n",
    "    for product_name, usage in zip(x.index, x):\n",
    "        if usage == \"Yes\":\n",
    "            product_used.append(product_name)\n",
    "    transactions.append(product_used)"
   ]
  },
  {
   "cell_type": "code",
   "execution_count": 46,
   "metadata": {},
   "outputs": [],
   "source": [
    "from mlxtend.preprocessing import TransactionEncoder\n",
    "encoder = TransactionEncoder()\n",
    "one_hot = encoder.fit(transactions).transform(transactions)\n",
    "one_hot_df = pd.DataFrame(one_hot,columns=encoder.columns_)\n",
    "# one_hot_df = one_hot_df.replace({False: 0, True:1})"
   ]
  },
  {
   "cell_type": "code",
   "execution_count": 61,
   "metadata": {},
   "outputs": [
    {
     "name": "stdout",
     "output_type": "stream",
     "text": [
      "Processing 60 combinations | Sampling itemset size 3\n"
     ]
    }
   ],
   "source": [
    "apriori_result = apriori(one_hot_df, min_support = 0.15, use_colnames = True, verbose = 1)"
   ]
  },
  {
   "cell_type": "code",
   "execution_count": 71,
   "metadata": {},
   "outputs": [],
   "source": [
    "df_ar = association_rules(apriori_result, min_threshold = 1e-5)"
   ]
  },
  {
   "cell_type": "code",
   "execution_count": 3,
   "metadata": {},
   "outputs": [],
   "source": [
    "products = [\"Games Product\", \"Music Product\", \"Education Product\", \"Video Product\", \"Call Center\", \"Use MyApp\"]\n",
    "min_support = 0.15\n",
    "min_confidence = 0.65"
   ]
  },
  {
   "cell_type": "code",
   "execution_count": 127,
   "metadata": {},
   "outputs": [],
   "source": [
    "import pandas as pd\n",
    "from mlxtend.frequent_patterns import apriori, association_rules\n",
    "from mlxtend.preprocessing import TransactionEncoder\n",
    "\n",
    "def index(products, min_support, min_confidence):\n",
    "    df = pd.read_excel(\"data/Telco_customer_churn_adapted_v2.xlsx\")\n",
    "    products = [\"Games Product\", \"Music Product\", \"Education Product\", \"Video Product\", \"Call Center\", \"Use MyApp\"]\n",
    "    X = df.copy()[products]\n",
    "\n",
    "    transactions = list()\n",
    "    for i in range(len(X)):\n",
    "        x = X.iloc[i]\n",
    "\n",
    "        product_used = list()\n",
    "        for product_name, usage in zip(x.index, x):\n",
    "            if usage == \"Yes\":\n",
    "                product_used.append(product_name)\n",
    "        transactions.append(product_used)\n",
    "\n",
    "    encoder = TransactionEncoder()\n",
    "    one_hot = encoder.fit(transactions).transform(transactions)\n",
    "    one_hot_df = pd.DataFrame(one_hot,columns=encoder.columns_)\n",
    "\n",
    "    apriori_result = apriori(one_hot_df, min_support = min_support, use_colnames = True, verbose = 1)\n",
    "    df_ar = association_rules(apriori_result, min_threshold = min_confidence)\n",
    "\n",
    "    return df_ar"
   ]
  },
  {
   "cell_type": "code",
   "execution_count": 9,
   "metadata": {},
   "outputs": [
    {
     "name": "stdout",
     "output_type": "stream",
     "text": [
      "Processing 60 combinations | Sampling itemset size 3\n"
     ]
    }
   ],
   "source": [
    "import association_rules_util as ar\n",
    "df_ar1 = ar.index(products, min_support, min_confidence).head(10)"
   ]
  },
  {
   "cell_type": "code",
   "execution_count": 8,
   "metadata": {},
   "outputs": [],
   "source": [
    "def frozenset_to_string(fset):\n",
    "    elements = ', '.join(map(str, fset))\n",
    "    return f\"({elements})\""
   ]
  },
  {
   "cell_type": "code",
   "execution_count": 15,
   "metadata": {},
   "outputs": [],
   "source": [
    "df_ar1['antecedents'] = df_ar1['antecedents'].apply(lambda x: frozenset_to_string(x))\n",
    "df_ar1['consequents'] = df_ar1['consequents'].apply(lambda x: frozenset_to_string(x))"
   ]
  },
  {
   "cell_type": "code",
   "execution_count": 17,
   "metadata": {},
   "outputs": [
    {
     "data": {
      "text/html": [
       "<div>\n",
       "<style scoped>\n",
       "    .dataframe tbody tr th:only-of-type {\n",
       "        vertical-align: middle;\n",
       "    }\n",
       "\n",
       "    .dataframe tbody tr th {\n",
       "        vertical-align: top;\n",
       "    }\n",
       "\n",
       "    .dataframe thead th {\n",
       "        text-align: right;\n",
       "    }\n",
       "</style>\n",
       "<table border=\"1\" class=\"dataframe\">\n",
       "  <thead>\n",
       "    <tr style=\"text-align: right;\">\n",
       "      <th></th>\n",
       "      <th>antecedents</th>\n",
       "      <th>consequents</th>\n",
       "      <th>antecedent support</th>\n",
       "      <th>consequent support</th>\n",
       "      <th>support</th>\n",
       "      <th>confidence</th>\n",
       "      <th>lift</th>\n",
       "      <th>leverage</th>\n",
       "      <th>conviction</th>\n",
       "      <th>zhangs_metric</th>\n",
       "    </tr>\n",
       "  </thead>\n",
       "  <tbody>\n",
       "    <tr>\n",
       "      <th>0</th>\n",
       "      <td>(Education Product)</td>\n",
       "      <td>(Use MyApp)</td>\n",
       "      <td>0.343888</td>\n",
       "      <td>0.387903</td>\n",
       "      <td>0.226466</td>\n",
       "      <td>0.658547</td>\n",
       "      <td>1.697710</td>\n",
       "      <td>0.093071</td>\n",
       "      <td>1.792623</td>\n",
       "      <td>0.626373</td>\n",
       "    </tr>\n",
       "    <tr>\n",
       "      <th>1</th>\n",
       "      <td>(Video Product)</td>\n",
       "      <td>(Use MyApp)</td>\n",
       "      <td>0.384353</td>\n",
       "      <td>0.387903</td>\n",
       "      <td>0.275451</td>\n",
       "      <td>0.716661</td>\n",
       "      <td>1.847526</td>\n",
       "      <td>0.126359</td>\n",
       "      <td>2.160296</td>\n",
       "      <td>0.745128</td>\n",
       "    </tr>\n",
       "    <tr>\n",
       "      <th>2</th>\n",
       "      <td>(Use MyApp)</td>\n",
       "      <td>(Video Product)</td>\n",
       "      <td>0.387903</td>\n",
       "      <td>0.384353</td>\n",
       "      <td>0.275451</td>\n",
       "      <td>0.710102</td>\n",
       "      <td>1.847526</td>\n",
       "      <td>0.126359</td>\n",
       "      <td>2.123670</td>\n",
       "      <td>0.749449</td>\n",
       "    </tr>\n",
       "    <tr>\n",
       "      <th>3</th>\n",
       "      <td>(Education Product, Video Product)</td>\n",
       "      <td>(Use MyApp)</td>\n",
       "      <td>0.222490</td>\n",
       "      <td>0.387903</td>\n",
       "      <td>0.178049</td>\n",
       "      <td>0.800255</td>\n",
       "      <td>2.063030</td>\n",
       "      <td>0.091744</td>\n",
       "      <td>3.064397</td>\n",
       "      <td>0.662726</td>\n",
       "    </tr>\n",
       "    <tr>\n",
       "      <th>4</th>\n",
       "      <td>(Education Product, Use MyApp)</td>\n",
       "      <td>(Video Product)</td>\n",
       "      <td>0.226466</td>\n",
       "      <td>0.384353</td>\n",
       "      <td>0.178049</td>\n",
       "      <td>0.786207</td>\n",
       "      <td>2.045532</td>\n",
       "      <td>0.091006</td>\n",
       "      <td>2.879638</td>\n",
       "      <td>0.660772</td>\n",
       "    </tr>\n",
       "  </tbody>\n",
       "</table>\n",
       "</div>"
      ],
      "text/plain": [
       "                          antecedents      consequents  antecedent support  \\\n",
       "0                 (Education Product)      (Use MyApp)            0.343888   \n",
       "1                     (Video Product)      (Use MyApp)            0.384353   \n",
       "2                         (Use MyApp)  (Video Product)            0.387903   \n",
       "3  (Education Product, Video Product)      (Use MyApp)            0.222490   \n",
       "4      (Education Product, Use MyApp)  (Video Product)            0.226466   \n",
       "\n",
       "   consequent support   support  confidence      lift  leverage  conviction  \\\n",
       "0            0.387903  0.226466    0.658547  1.697710  0.093071    1.792623   \n",
       "1            0.387903  0.275451    0.716661  1.847526  0.126359    2.160296   \n",
       "2            0.384353  0.275451    0.710102  1.847526  0.126359    2.123670   \n",
       "3            0.387903  0.178049    0.800255  2.063030  0.091744    3.064397   \n",
       "4            0.384353  0.178049    0.786207  2.045532  0.091006    2.879638   \n",
       "\n",
       "   zhangs_metric  \n",
       "0       0.626373  \n",
       "1       0.745128  \n",
       "2       0.749449  \n",
       "3       0.662726  \n",
       "4       0.660772  "
      ]
     },
     "execution_count": 17,
     "metadata": {},
     "output_type": "execute_result"
    }
   ],
   "source": [
    "df_ar1"
   ]
  }
 ],
 "metadata": {
  "kernelspec": {
   "display_name": "Python 3",
   "language": "python",
   "name": "python3"
  },
  "language_info": {
   "codemirror_mode": {
    "name": "ipython",
    "version": 3
   },
   "file_extension": ".py",
   "mimetype": "text/x-python",
   "name": "python",
   "nbconvert_exporter": "python",
   "pygments_lexer": "ipython3",
   "version": "3.10.7"
  }
 },
 "nbformat": 4,
 "nbformat_minor": 2
}
